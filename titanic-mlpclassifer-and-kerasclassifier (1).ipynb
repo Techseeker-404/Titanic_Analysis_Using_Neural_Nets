{
 "cells": [
  {
   "cell_type": "markdown",
   "metadata": {},
   "source": [
    "**This kernel is based on MLPClassifier and KerasClassifier for Neural Networks**"
   ]
  },
  {
   "cell_type": "code",
   "execution_count": 1,
   "metadata": {
    "_cell_guid": "b1076dfc-b9ad-4769-8c92-a6c4dae69d19",
    "_uuid": "8f2839f25d086af736a60e9eeb907d3b93b6e0e5",
    "colab": {
     "base_uri": "https://localhost:8080/",
     "height": 82
    },
    "colab_type": "code",
    "id": "NLshSyVcrksY",
    "outputId": "7cbc3804-3b3f-41cd-9af2-397901f47639"
   },
   "outputs": [
    {
     "name": "stderr",
     "output_type": "stream",
     "text": [
      "Using TensorFlow backend.\n"
     ]
    }
   ],
   "source": [
    "import numpy as np\n",
    "import pandas as pd \n",
    "import matplotlib.pyplot as plt\n",
    "import seaborn as sns\n",
    "import random\n",
    "\n",
    "from keras.models import Sequential\n",
    "from keras.layers.core import Dense\n",
    "from keras.optimizers import adam\n",
    "from keras.wrappers.scikit_learn import KerasClassifier\n",
    "\n",
    "from sklearn.model_selection import GridSearchCV\n",
    "from sklearn.preprocessing import MinMaxScaler\n",
    "\n",
    "from sklearn.neural_network import MLPClassifier\n",
    "\n",
    "from sklearn.model_selection import train_test_split\n",
    "from sklearn.model_selection import cross_val_score\n",
    "from sklearn.metrics import precision_score,confusion_matrix, recall_score, f1_score, roc_auc_score, accuracy_score, classification_report\n",
    "\n"
   ]
  },
  {
   "cell_type": "markdown",
   "metadata": {
    "colab_type": "text",
    "id": "7lCNi0sorktC"
   },
   "source": [
    "**READING AND CLEANING DATA FOR MISSING VALUES**"
   ]
  },
  {
   "cell_type": "code",
   "execution_count": 2,
   "metadata": {
    "colab": {},
    "colab_type": "code",
    "id": "C27URzskrktH"
   },
   "outputs": [],
   "source": [
    "train_titanic = pd.read_csv(\"../input/titanic/train.csv\")\n",
    "real_test_titanic = pd.read_csv(\"../input/titanic/test.csv\")\n"
   ]
  },
  {
   "cell_type": "code",
   "execution_count": null,
   "metadata": {
    "colab": {},
    "colab_type": "code",
    "id": "lF_wHboAr4ut"
   },
   "outputs": [],
   "source": []
  },
  {
   "cell_type": "markdown",
   "metadata": {
    "colab_type": "text",
    "id": "xCSWd1rnrktU"
   },
   "source": [
    "*The test csv data has been named as real_test_titanic to avoid confusion later, while splitting the training data to train & test data for model building*"
   ]
  },
  {
   "cell_type": "code",
   "execution_count": 3,
   "metadata": {
    "colab": {
     "base_uri": "https://localhost:8080/",
     "height": 52
    },
    "colab_type": "code",
    "id": "Yyk-pBVjrktX",
    "outputId": "efb753f3-4a22-4d48-ab1d-d7096334349b"
   },
   "outputs": [
    {
     "name": "stdout",
     "output_type": "stream",
     "text": [
      "Dimension of training set :  (891, 12)\n",
      "Dimension of test set :  (418, 11)\n"
     ]
    }
   ],
   "source": [
    "print(\"Dimension of training set : \", train_titanic.shape)\n",
    "print(\"Dimension of test set : \", real_test_titanic.shape)\n"
   ]
  },
  {
   "cell_type": "code",
   "execution_count": 4,
   "metadata": {
    "colab": {
     "base_uri": "https://localhost:8080/",
     "height": 194
    },
    "colab_type": "code",
    "id": "bZBZ2SIZrkti",
    "outputId": "c77acad4-8c15-4ef5-b185-2622765a1d53"
   },
   "outputs": [
    {
     "data": {
      "text/html": [
       "<div>\n",
       "<style scoped>\n",
       "    .dataframe tbody tr th:only-of-type {\n",
       "        vertical-align: middle;\n",
       "    }\n",
       "\n",
       "    .dataframe tbody tr th {\n",
       "        vertical-align: top;\n",
       "    }\n",
       "\n",
       "    .dataframe thead th {\n",
       "        text-align: right;\n",
       "    }\n",
       "</style>\n",
       "<table border=\"1\" class=\"dataframe\">\n",
       "  <thead>\n",
       "    <tr style=\"text-align: right;\">\n",
       "      <th></th>\n",
       "      <th>PassengerId</th>\n",
       "      <th>Survived</th>\n",
       "      <th>Pclass</th>\n",
       "      <th>Name</th>\n",
       "      <th>Sex</th>\n",
       "      <th>Age</th>\n",
       "      <th>SibSp</th>\n",
       "      <th>Parch</th>\n",
       "      <th>Ticket</th>\n",
       "      <th>Fare</th>\n",
       "      <th>Cabin</th>\n",
       "      <th>Embarked</th>\n",
       "    </tr>\n",
       "  </thead>\n",
       "  <tbody>\n",
       "    <tr>\n",
       "      <td>0</td>\n",
       "      <td>1</td>\n",
       "      <td>0</td>\n",
       "      <td>3</td>\n",
       "      <td>Braund, Mr. Owen Harris</td>\n",
       "      <td>male</td>\n",
       "      <td>22.0</td>\n",
       "      <td>1</td>\n",
       "      <td>0</td>\n",
       "      <td>A/5 21171</td>\n",
       "      <td>7.2500</td>\n",
       "      <td>NaN</td>\n",
       "      <td>S</td>\n",
       "    </tr>\n",
       "    <tr>\n",
       "      <td>1</td>\n",
       "      <td>2</td>\n",
       "      <td>1</td>\n",
       "      <td>1</td>\n",
       "      <td>Cumings, Mrs. John Bradley (Florence Briggs Th...</td>\n",
       "      <td>female</td>\n",
       "      <td>38.0</td>\n",
       "      <td>1</td>\n",
       "      <td>0</td>\n",
       "      <td>PC 17599</td>\n",
       "      <td>71.2833</td>\n",
       "      <td>C85</td>\n",
       "      <td>C</td>\n",
       "    </tr>\n",
       "    <tr>\n",
       "      <td>2</td>\n",
       "      <td>3</td>\n",
       "      <td>1</td>\n",
       "      <td>3</td>\n",
       "      <td>Heikkinen, Miss. Laina</td>\n",
       "      <td>female</td>\n",
       "      <td>26.0</td>\n",
       "      <td>0</td>\n",
       "      <td>0</td>\n",
       "      <td>STON/O2. 3101282</td>\n",
       "      <td>7.9250</td>\n",
       "      <td>NaN</td>\n",
       "      <td>S</td>\n",
       "    </tr>\n",
       "    <tr>\n",
       "      <td>3</td>\n",
       "      <td>4</td>\n",
       "      <td>1</td>\n",
       "      <td>1</td>\n",
       "      <td>Futrelle, Mrs. Jacques Heath (Lily May Peel)</td>\n",
       "      <td>female</td>\n",
       "      <td>35.0</td>\n",
       "      <td>1</td>\n",
       "      <td>0</td>\n",
       "      <td>113803</td>\n",
       "      <td>53.1000</td>\n",
       "      <td>C123</td>\n",
       "      <td>S</td>\n",
       "    </tr>\n",
       "    <tr>\n",
       "      <td>4</td>\n",
       "      <td>5</td>\n",
       "      <td>0</td>\n",
       "      <td>3</td>\n",
       "      <td>Allen, Mr. William Henry</td>\n",
       "      <td>male</td>\n",
       "      <td>35.0</td>\n",
       "      <td>0</td>\n",
       "      <td>0</td>\n",
       "      <td>373450</td>\n",
       "      <td>8.0500</td>\n",
       "      <td>NaN</td>\n",
       "      <td>S</td>\n",
       "    </tr>\n",
       "  </tbody>\n",
       "</table>\n",
       "</div>"
      ],
      "text/plain": [
       "   PassengerId  Survived  Pclass  \\\n",
       "0            1         0       3   \n",
       "1            2         1       1   \n",
       "2            3         1       3   \n",
       "3            4         1       1   \n",
       "4            5         0       3   \n",
       "\n",
       "                                                Name     Sex   Age  SibSp  \\\n",
       "0                            Braund, Mr. Owen Harris    male  22.0      1   \n",
       "1  Cumings, Mrs. John Bradley (Florence Briggs Th...  female  38.0      1   \n",
       "2                             Heikkinen, Miss. Laina  female  26.0      0   \n",
       "3       Futrelle, Mrs. Jacques Heath (Lily May Peel)  female  35.0      1   \n",
       "4                           Allen, Mr. William Henry    male  35.0      0   \n",
       "\n",
       "   Parch            Ticket     Fare Cabin Embarked  \n",
       "0      0         A/5 21171   7.2500   NaN        S  \n",
       "1      0          PC 17599  71.2833   C85        C  \n",
       "2      0  STON/O2. 3101282   7.9250   NaN        S  \n",
       "3      0            113803  53.1000  C123        S  \n",
       "4      0            373450   8.0500   NaN        S  "
      ]
     },
     "execution_count": 4,
     "metadata": {},
     "output_type": "execute_result"
    }
   ],
   "source": [
    "train_titanic.head()"
   ]
  },
  {
   "cell_type": "code",
   "execution_count": 5,
   "metadata": {
    "colab": {
     "base_uri": "https://localhost:8080/",
     "height": 194
    },
    "colab_type": "code",
    "id": "8NGFXd1Frktr",
    "outputId": "8e4d1646-2183-4ccf-94ad-a5f13488020f"
   },
   "outputs": [
    {
     "data": {
      "text/html": [
       "<div>\n",
       "<style scoped>\n",
       "    .dataframe tbody tr th:only-of-type {\n",
       "        vertical-align: middle;\n",
       "    }\n",
       "\n",
       "    .dataframe tbody tr th {\n",
       "        vertical-align: top;\n",
       "    }\n",
       "\n",
       "    .dataframe thead th {\n",
       "        text-align: right;\n",
       "    }\n",
       "</style>\n",
       "<table border=\"1\" class=\"dataframe\">\n",
       "  <thead>\n",
       "    <tr style=\"text-align: right;\">\n",
       "      <th></th>\n",
       "      <th>PassengerId</th>\n",
       "      <th>Pclass</th>\n",
       "      <th>Name</th>\n",
       "      <th>Sex</th>\n",
       "      <th>Age</th>\n",
       "      <th>SibSp</th>\n",
       "      <th>Parch</th>\n",
       "      <th>Ticket</th>\n",
       "      <th>Fare</th>\n",
       "      <th>Cabin</th>\n",
       "      <th>Embarked</th>\n",
       "    </tr>\n",
       "  </thead>\n",
       "  <tbody>\n",
       "    <tr>\n",
       "      <td>0</td>\n",
       "      <td>892</td>\n",
       "      <td>3</td>\n",
       "      <td>Kelly, Mr. James</td>\n",
       "      <td>male</td>\n",
       "      <td>34.5</td>\n",
       "      <td>0</td>\n",
       "      <td>0</td>\n",
       "      <td>330911</td>\n",
       "      <td>7.8292</td>\n",
       "      <td>NaN</td>\n",
       "      <td>Q</td>\n",
       "    </tr>\n",
       "    <tr>\n",
       "      <td>1</td>\n",
       "      <td>893</td>\n",
       "      <td>3</td>\n",
       "      <td>Wilkes, Mrs. James (Ellen Needs)</td>\n",
       "      <td>female</td>\n",
       "      <td>47.0</td>\n",
       "      <td>1</td>\n",
       "      <td>0</td>\n",
       "      <td>363272</td>\n",
       "      <td>7.0000</td>\n",
       "      <td>NaN</td>\n",
       "      <td>S</td>\n",
       "    </tr>\n",
       "    <tr>\n",
       "      <td>2</td>\n",
       "      <td>894</td>\n",
       "      <td>2</td>\n",
       "      <td>Myles, Mr. Thomas Francis</td>\n",
       "      <td>male</td>\n",
       "      <td>62.0</td>\n",
       "      <td>0</td>\n",
       "      <td>0</td>\n",
       "      <td>240276</td>\n",
       "      <td>9.6875</td>\n",
       "      <td>NaN</td>\n",
       "      <td>Q</td>\n",
       "    </tr>\n",
       "    <tr>\n",
       "      <td>3</td>\n",
       "      <td>895</td>\n",
       "      <td>3</td>\n",
       "      <td>Wirz, Mr. Albert</td>\n",
       "      <td>male</td>\n",
       "      <td>27.0</td>\n",
       "      <td>0</td>\n",
       "      <td>0</td>\n",
       "      <td>315154</td>\n",
       "      <td>8.6625</td>\n",
       "      <td>NaN</td>\n",
       "      <td>S</td>\n",
       "    </tr>\n",
       "    <tr>\n",
       "      <td>4</td>\n",
       "      <td>896</td>\n",
       "      <td>3</td>\n",
       "      <td>Hirvonen, Mrs. Alexander (Helga E Lindqvist)</td>\n",
       "      <td>female</td>\n",
       "      <td>22.0</td>\n",
       "      <td>1</td>\n",
       "      <td>1</td>\n",
       "      <td>3101298</td>\n",
       "      <td>12.2875</td>\n",
       "      <td>NaN</td>\n",
       "      <td>S</td>\n",
       "    </tr>\n",
       "  </tbody>\n",
       "</table>\n",
       "</div>"
      ],
      "text/plain": [
       "   PassengerId  Pclass                                          Name     Sex  \\\n",
       "0          892       3                              Kelly, Mr. James    male   \n",
       "1          893       3              Wilkes, Mrs. James (Ellen Needs)  female   \n",
       "2          894       2                     Myles, Mr. Thomas Francis    male   \n",
       "3          895       3                              Wirz, Mr. Albert    male   \n",
       "4          896       3  Hirvonen, Mrs. Alexander (Helga E Lindqvist)  female   \n",
       "\n",
       "    Age  SibSp  Parch   Ticket     Fare Cabin Embarked  \n",
       "0  34.5      0      0   330911   7.8292   NaN        Q  \n",
       "1  47.0      1      0   363272   7.0000   NaN        S  \n",
       "2  62.0      0      0   240276   9.6875   NaN        Q  \n",
       "3  27.0      0      0   315154   8.6625   NaN        S  \n",
       "4  22.0      1      1  3101298  12.2875   NaN        S  "
      ]
     },
     "execution_count": 5,
     "metadata": {},
     "output_type": "execute_result"
    }
   ],
   "source": [
    "real_test_titanic.head()"
   ]
  },
  {
   "cell_type": "markdown",
   "metadata": {
    "colab_type": "text",
    "id": "5ytkY97_rkt3"
   },
   "source": [
    "*The test data has been given to evaluate the survival column after finding a right model with train data*"
   ]
  },
  {
   "cell_type": "markdown",
   "metadata": {
    "colab_type": "text",
    "id": "VlG0Hw7Krkt5"
   },
   "source": [
    "**Dealing with missing values**\n",
    "* Let us check whether there are any missing values (in both training set and test set)"
   ]
  },
  {
   "cell_type": "code",
   "execution_count": 6,
   "metadata": {
    "colab": {
     "base_uri": "https://localhost:8080/",
     "height": 248
    },
    "colab_type": "code",
    "id": "ELJj5asBrkt9",
    "outputId": "ba77e6fc-4aa2-4d3b-ee8a-dc8e57bee628"
   },
   "outputs": [
    {
     "data": {
      "text/plain": [
       "PassengerId      0\n",
       "Survived         0\n",
       "Pclass           0\n",
       "Name             0\n",
       "Sex              0\n",
       "Age            177\n",
       "SibSp            0\n",
       "Parch            0\n",
       "Ticket           0\n",
       "Fare             0\n",
       "Cabin          687\n",
       "Embarked         2\n",
       "dtype: int64"
      ]
     },
     "execution_count": 6,
     "metadata": {},
     "output_type": "execute_result"
    }
   ],
   "source": [
    "#Check if there are any null values in training set\n",
    "\n",
    "train_titanic.isnull().sum()"
   ]
  },
  {
   "cell_type": "markdown",
   "metadata": {
    "colab_type": "text",
    "id": "aa9ya4qHrkuH"
   },
   "source": [
    "**The age column has the most of missing values (177 in number).**"
   ]
  },
  {
   "cell_type": "markdown",
   "metadata": {
    "colab_type": "text",
    "id": "oxwJbRTjrkuJ"
   },
   "source": [
    "* Let's check if we can replace missing values with mean. \n",
    "* To know this we need to check whether the standard deviation is a higher value or lower value.\n",
    "* Low standard deviation means, the age doesn't spread too much and the mean can be used to replace all the missing values\n",
    "* Higher standard deviation means, the age spreads enough and we need to replace the missing age values with a spread"
   ]
  },
  {
   "cell_type": "code",
   "execution_count": 7,
   "metadata": {
    "colab": {
     "base_uri": "https://localhost:8080/",
     "height": 52
    },
    "colab_type": "code",
    "id": "RCWNWSzerkuN",
    "outputId": "c890f7f3-34bf-4be8-b782-69580983e729"
   },
   "outputs": [
    {
     "name": "stdout",
     "output_type": "stream",
     "text": [
      "The mean of age :  29\n",
      "The standard deviation of age :  14\n"
     ]
    }
   ],
   "source": [
    "age_mean = int((round(train_titanic['Age'].mean(),2)))\n",
    "age_sd = int(round(train_titanic['Age'].std(),2))\n",
    "print(\"The mean of age : \", age_mean)\n",
    "print(\"The standard deviation of age : \", age_sd)"
   ]
  },
  {
   "cell_type": "markdown",
   "metadata": {
    "colab_type": "text",
    "id": "zr4YT6iarkuU"
   },
   "source": [
    "* The standard deviation is quite high\n",
    "* As a workaround, we can generate 177 random numbers between 14 and 29 i.e.between sd and mean of age column and replace the NaN in age column with them"
   ]
  },
  {
   "cell_type": "markdown",
   "metadata": {
    "colab_type": "text",
    "id": "Kq2QyFdirkuW"
   },
   "source": [
    "**The following code snippet will replace NaN in Age column with numbers in the range between sd and mean**"
   ]
  },
  {
   "cell_type": "code",
   "execution_count": 8,
   "metadata": {
    "colab": {},
    "colab_type": "code",
    "id": "PBupE-Qkrkub"
   },
   "outputs": [],
   "source": [
    "from random import choice\n",
    "randomvalue = [i for i in range(age_sd,age_mean)]\n",
    "for _ in range(train_titanic.isnull().sum().Age):\n",
    "\tnumber_to_insert = choice(randomvalue)\n",
    "\ttrain_titanic['Age'].fillna(number_to_insert, inplace = True) "
   ]
  },
  {
   "cell_type": "code",
   "execution_count": 9,
   "metadata": {
    "colab": {
     "base_uri": "https://localhost:8080/",
     "height": 248
    },
    "colab_type": "code",
    "id": "gaaVIL8xrkuh",
    "outputId": "ffad93b2-9c31-49b2-9cd7-97ace4dba1f7"
   },
   "outputs": [
    {
     "data": {
      "text/plain": [
       "PassengerId      0\n",
       "Survived         0\n",
       "Pclass           0\n",
       "Name             0\n",
       "Sex              0\n",
       "Age              0\n",
       "SibSp            0\n",
       "Parch            0\n",
       "Ticket           0\n",
       "Fare             0\n",
       "Cabin          687\n",
       "Embarked         2\n",
       "dtype: int64"
      ]
     },
     "execution_count": 9,
     "metadata": {},
     "output_type": "execute_result"
    }
   ],
   "source": [
    "train_titanic.isnull().sum()"
   ]
  },
  {
   "cell_type": "markdown",
   "metadata": {
    "colab_type": "text",
    "id": "RBzRb4hrrkur"
   },
   "source": [
    "* The other column which have missing values is 'Embarked'. Since it is only two in number, let us just replace it with most frequent one in that column\n",
    "* 'Cabin' column is not used in analysis. So the missing values in there can be neglected"
   ]
  },
  {
   "cell_type": "code",
   "execution_count": 10,
   "metadata": {
    "colab": {
     "base_uri": "https://localhost:8080/",
     "height": 35
    },
    "colab_type": "code",
    "id": "--6fzvTgrkut",
    "outputId": "01b2ca58-9b1d-4d64-8deb-1bffa8c06e07"
   },
   "outputs": [
    {
     "name": "stdout",
     "output_type": "stream",
     "text": [
      "The most frequent value in 'Embarked' column is : S\n"
     ]
    }
   ],
   "source": [
    "print(\"The most frequent value in 'Embarked' column is :\", train_titanic['Embarked'].value_counts().idxmax())"
   ]
  },
  {
   "cell_type": "code",
   "execution_count": 11,
   "metadata": {
    "colab": {
     "base_uri": "https://localhost:8080/",
     "height": 248
    },
    "colab_type": "code",
    "id": "k5bM3nJYrku0",
    "outputId": "92a7f14d-e28d-4cfe-cdbf-fae39c650f18"
   },
   "outputs": [
    {
     "data": {
      "text/plain": [
       "PassengerId      0\n",
       "Survived         0\n",
       "Pclass           0\n",
       "Name             0\n",
       "Sex              0\n",
       "Age              0\n",
       "SibSp            0\n",
       "Parch            0\n",
       "Ticket           0\n",
       "Fare             0\n",
       "Cabin          687\n",
       "Embarked         0\n",
       "dtype: int64"
      ]
     },
     "execution_count": 11,
     "metadata": {},
     "output_type": "execute_result"
    }
   ],
   "source": [
    "train_titanic['Embarked'] = train_titanic['Embarked'].fillna(train_titanic['Embarked'].value_counts().idxmax())\n",
    "train_titanic.isnull().sum()"
   ]
  },
  {
   "cell_type": "markdown",
   "metadata": {
    "colab_type": "text",
    "id": "r6c9gJarrku8"
   },
   "source": [
    "Checking the same for test data"
   ]
  },
  {
   "cell_type": "code",
   "execution_count": 12,
   "metadata": {
    "colab": {
     "base_uri": "https://localhost:8080/",
     "height": 230
    },
    "colab_type": "code",
    "id": "tV5-cqslrku-",
    "outputId": "b653aa08-dd70-4cfc-d413-322516a0c763"
   },
   "outputs": [
    {
     "data": {
      "text/plain": [
       "PassengerId      0\n",
       "Pclass           0\n",
       "Name             0\n",
       "Sex              0\n",
       "Age             86\n",
       "SibSp            0\n",
       "Parch            0\n",
       "Ticket           0\n",
       "Fare             1\n",
       "Cabin          327\n",
       "Embarked         0\n",
       "dtype: int64"
      ]
     },
     "execution_count": 12,
     "metadata": {},
     "output_type": "execute_result"
    }
   ],
   "source": [
    "real_test_titanic.isnull().sum()"
   ]
  },
  {
   "cell_type": "markdown",
   "metadata": {
    "colab_type": "text",
    "id": "sHCEO1kyrkvI"
   },
   "source": [
    "Replace the NaN in Age column of test data (Similar to the one done for training data)\n"
   ]
  },
  {
   "cell_type": "code",
   "execution_count": 13,
   "metadata": {
    "colab": {},
    "colab_type": "code",
    "id": "07mAUn2arkvM"
   },
   "outputs": [],
   "source": [
    "age_mean_test = int((round(real_test_titanic['Age'].mean(),2)))\n",
    "age_sd_test = int(round(real_test_titanic['Age'].std(),2))\n",
    "randomvalue = [i for i in range(age_sd_test,age_mean_test)]\n",
    "for _ in range(real_test_titanic.isnull().sum().Age):\n",
    "    number_to_insert = choice(randomvalue)\n",
    "    real_test_titanic['Age'].fillna(number_to_insert, inplace = True)"
   ]
  },
  {
   "cell_type": "code",
   "execution_count": 14,
   "metadata": {
    "colab": {
     "base_uri": "https://localhost:8080/",
     "height": 230
    },
    "colab_type": "code",
    "id": "WfHUV12jrkvT",
    "outputId": "384a929e-7f6c-47fc-b22f-f8ebb4499cec"
   },
   "outputs": [
    {
     "data": {
      "text/plain": [
       "PassengerId      0\n",
       "Pclass           0\n",
       "Name             0\n",
       "Sex              0\n",
       "Age              0\n",
       "SibSp            0\n",
       "Parch            0\n",
       "Ticket           0\n",
       "Fare             1\n",
       "Cabin          327\n",
       "Embarked         0\n",
       "dtype: int64"
      ]
     },
     "execution_count": 14,
     "metadata": {},
     "output_type": "execute_result"
    }
   ],
   "source": [
    "real_test_titanic.isnull().sum()"
   ]
  },
  {
   "cell_type": "code",
   "execution_count": 15,
   "metadata": {
    "colab": {},
    "colab_type": "code",
    "id": "2oLqaiZMrkvZ"
   },
   "outputs": [],
   "source": [
    "real_test_titanic['Fare'] = real_test_titanic['Fare'].fillna(int(real_test_titanic['Fare'].mean()))"
   ]
  },
  {
   "cell_type": "code",
   "execution_count": 16,
   "metadata": {
    "colab": {
     "base_uri": "https://localhost:8080/",
     "height": 230
    },
    "colab_type": "code",
    "id": "8ljLFqY9rkvg",
    "outputId": "3160e17e-ecfc-4845-ea2d-028c3d1ea002"
   },
   "outputs": [
    {
     "data": {
      "text/plain": [
       "PassengerId      0\n",
       "Pclass           0\n",
       "Name             0\n",
       "Sex              0\n",
       "Age              0\n",
       "SibSp            0\n",
       "Parch            0\n",
       "Ticket           0\n",
       "Fare             0\n",
       "Cabin          327\n",
       "Embarked         0\n",
       "dtype: int64"
      ]
     },
     "execution_count": 16,
     "metadata": {},
     "output_type": "execute_result"
    }
   ],
   "source": [
    "real_test_titanic.isnull().sum()"
   ]
  },
  {
   "cell_type": "markdown",
   "metadata": {
    "colab_type": "text",
    "id": "8g_vAErXrkvk"
   },
   "source": [
    "**BASIC PASSENGER DATA ANALYSIS**"
   ]
  },
  {
   "cell_type": "code",
   "execution_count": 17,
   "metadata": {
    "colab": {
     "base_uri": "https://localhost:8080/",
     "height": 568
    },
    "colab_type": "code",
    "id": "Pb5omGS-rkvn",
    "outputId": "607c2242-5b99-4be0-a2ad-1947fa3c8a2e"
   },
   "outputs": [
    {
     "name": "stdout",
     "output_type": "stream",
     "text": [
      "======================================================================\n",
      "TRAINING SET ANALYSIS BASED ON GENDER\n",
      "======================================================================\n",
      "Total number of travellers :  891\n",
      "Percentage of males :  64.75869809203142\n",
      "Percentage of females :  35.24130190796858\n",
      "======================================================================\n",
      "Total number of people survived :  342\n",
      "Total number of survived males :  109\n",
      "Total number of survived females :  233\n",
      "======================================================================\n",
      "Percentage of males survived :  12.2334455667789\n",
      "Percentage of females survived :  26.15039281705948\n",
      "======================================================================\n",
      "Percentage of total people survived :  38.38383838383838\n",
      "======================================================================\n",
      "**********************************************************************\n",
      "======================================================================\n",
      "TRAINING SET ANALYSIS BASED ON PASSENGER CLASS\n",
      "======================================================================\n",
      "Total number of first class passengers :  216\n",
      "Total number of second class passengers :  184\n",
      "Total number of third class passengers :  491\n",
      "======================================================================\n",
      "Total number of survived first class passengers :  136\n",
      "Total number of survived second class passengers :  87\n",
      "Total number of survived third class passengers :  119\n",
      "Percentage of survived first class passengers :  15.26374859708193\n",
      "Percentage of survived second class passengers :  9.764309764309765\n",
      "Percentage of survived first class passengers :  13.35578002244669\n",
      "======================================================================\n"
     ]
    }
   ],
   "source": [
    "#Total passengers and survival percentages based on gender\n",
    "total_passengers = train_titanic['Sex'].count()\n",
    "total_males = train_titanic['Sex'].value_counts()['male']\n",
    "total_females = train_titanic['Sex'].value_counts()['female']\n",
    "survived_males = train_titanic.query('Survived==1')['Sex'].value_counts()['male']\n",
    "survived_females = train_titanic.query('Survived==1')['Sex'].value_counts()['female']\n",
    "survived_total = survived_males + survived_females\n",
    "print(\"=\" * 70)\n",
    "print(\"TRAINING SET ANALYSIS BASED ON GENDER\")\n",
    "print(\"=\" * 70)\n",
    "print(\"Total number of travellers : \",total_passengers )\n",
    "print(\"Percentage of males : \", (100 * total_males /total_passengers))\n",
    "print(\"Percentage of females : \", (100 * total_females /total_passengers))\n",
    "\n",
    "print(\"=\" * 70)\n",
    "print(\"Total number of people survived : \", survived_total) \n",
    "print(\"Total number of survived males : \", survived_males )\n",
    "print(\"Total number of survived females : \", survived_females)\n",
    "\n",
    "print(\"=\" * 70)\n",
    "print(\"Percentage of males survived : \", 100 * (survived_males/total_passengers) )\n",
    "print(\"Percentage of females survived : \", 100 * (survived_females/total_passengers))\n",
    "\n",
    "print(\"=\" * 70)\n",
    "print(\"Percentage of total people survived : \", 100 * (survived_total/total_passengers)) \n",
    "\n",
    "\n",
    "#Total passengers and survival percentages based on passenger class\n",
    "print(\"=\" * 70)\n",
    "print(\"*\" * 70)\n",
    "print(\"=\" * 70)\n",
    "total_1stclass_passengers = train_titanic['Pclass'].value_counts()[1]\n",
    "total_2ndclass_passengers = train_titanic['Pclass'].value_counts()[2]\n",
    "total_3rdclass_passengers = train_titanic['Pclass'].value_counts()[3]\n",
    "survived_1stclass_passengers = train_titanic.query('Survived==1')['Pclass'].value_counts()[1]\n",
    "survived_2ndclass_passengers = train_titanic.query('Survived==1')['Pclass'].value_counts()[2]\n",
    "survived_3rdclass_passengers = train_titanic.query('Survived==1')['Pclass'].value_counts()[3]\n",
    "print(\"TRAINING SET ANALYSIS BASED ON PASSENGER CLASS\")\n",
    "print(\"=\" * 70)\n",
    "print(\"Total number of first class passengers : \", total_1stclass_passengers )\n",
    "print(\"Total number of second class passengers : \", total_2ndclass_passengers )\n",
    "print(\"Total number of third class passengers : \", total_3rdclass_passengers )\n",
    "print(\"=\" * 70)\n",
    "print(\"Total number of survived first class passengers : \", survived_1stclass_passengers )\n",
    "print(\"Total number of survived second class passengers : \", survived_2ndclass_passengers )\n",
    "print(\"Total number of survived third class passengers : \", survived_3rdclass_passengers )\n",
    "print(\"Percentage of survived first class passengers : \", 100 * survived_1stclass_passengers/ total_passengers)\n",
    "print(\"Percentage of survived second class passengers : \", 100 * survived_2ndclass_passengers/ total_passengers)\n",
    "print(\"Percentage of survived first class passengers : \", 100 * survived_3rdclass_passengers/ total_passengers)\n",
    "print(\"=\" * 70)\n"
   ]
  },
  {
   "cell_type": "code",
   "execution_count": 18,
   "metadata": {
    "colab": {
     "base_uri": "https://localhost:8080/",
     "height": 313
    },
    "colab_type": "code",
    "id": "4kR15P4vrkv6",
    "outputId": "b28cf825-91da-4838-eec7-d46a39baf3e5"
   },
   "outputs": [
    {
     "data": {
      "text/plain": [
       "Text(0.5, 0, 'Gender')"
      ]
     },
     "execution_count": 18,
     "metadata": {},
     "output_type": "execute_result"
    },
    {
     "data": {
      "image/png": "[encoded data removed]",
      "text/plain": [
       "<Figure size 432x288 with 1 Axes>"
      ]
     },
     "metadata": {
      "needs_background": "light"
     },
     "output_type": "display_data"
    }
   ],
   "source": [
    "#Plotting to see distribution\n",
    "\n",
    "sns.countplot('Sex', data=train_titanic, palette=None)\n",
    "plt.title(\"Total male and female passengers onboard Titanic\")\n",
    "plt.ylabel(\"Number of passengers\")\n",
    "plt.xlabel(\"Gender\")\n"
   ]
  },
  {
   "cell_type": "markdown",
   "metadata": {
    "colab_type": "text",
    "id": "rz7uKZQdrkv9"
   },
   "source": [
    "**Inference from above diagram**\n",
    "* Number of males way greater than number of females"
   ]
  },
  {
   "cell_type": "code",
   "execution_count": 19,
   "metadata": {
    "colab": {
     "base_uri": "https://localhost:8080/",
     "height": 313
    },
    "colab_type": "code",
    "id": "lDP2z9yErkwC",
    "outputId": "049c108d-0d57-41e9-ec53-0ecd529620b7"
   },
   "outputs": [
    {
     "data": {
      "text/plain": [
       "Text(0.5, 0, 'Gender')"
      ]
     },
     "execution_count": 19,
     "metadata": {},
     "output_type": "execute_result"
    },
    {
     "data": {
      "image/png": "[encoded data removed]",
      "text/plain": [
       "<Figure size 432x288 with 1 Axes>"
      ]
     },
     "metadata": {
      "needs_background": "light"
     },
     "output_type": "display_data"
    }
   ],
   "source": [
    "sns.countplot('Sex',data=train_titanic,hue='Survived')\n",
    "plt.title(\"Genderwise survival diagram\")\n",
    "plt.ylabel(\"Number of passengers\")\n",
    "plt.xlabel(\"Gender\")"
   ]
  },
  {
   "cell_type": "markdown",
   "metadata": {
    "colab_type": "text",
    "id": "1Q3wquFdrkwL"
   },
   "source": [
    "**Inference drawn from above diagram** \n",
    "* Survived =  1, means the person survived the disaster\n",
    "* Survival rate of females is higher than that of males"
   ]
  },
  {
   "cell_type": "code",
   "execution_count": 20,
   "metadata": {
    "colab": {
     "base_uri": "https://localhost:8080/",
     "height": 313
    },
    "colab_type": "code",
    "id": "uOQkvHxSrkwN",
    "outputId": "6567a933-a58b-4b84-8b98-1a94c624ac6f"
   },
   "outputs": [
    {
     "data": {
      "text/plain": [
       "Text(0.5, 0, 'Gender')"
      ]
     },
     "execution_count": 20,
     "metadata": {},
     "output_type": "execute_result"
    },
    {
     "data": {
      "image/png": "[encoded data removed]",
      "text/plain": [
       "<Figure size 432x288 with 1 Axes>"
      ]
     },
     "metadata": {
      "needs_background": "light"
     },
     "output_type": "display_data"
    }
   ],
   "source": [
    "sns.countplot('Pclass',data=train_titanic)\n",
    "plt.title(\"Number of passengers in each class\")\n",
    "plt.ylabel(\"Number of passengers\")\n",
    "plt.xlabel(\"Gender\")"
   ]
  },
  {
   "cell_type": "markdown",
   "metadata": {
    "colab_type": "text",
    "id": "NbSfKHYJrkwT"
   },
   "source": [
    "**Inference drawn from above diagram**\n",
    "* Third class passengers are way ahead in number than that of first and second class passengers"
   ]
  },
  {
   "cell_type": "code",
   "execution_count": 21,
   "metadata": {
    "colab": {
     "base_uri": "https://localhost:8080/",
     "height": 313
    },
    "colab_type": "code",
    "id": "oiazkhUWrkwV",
    "outputId": "172eb576-4ed7-4719-cfe8-335893192472"
   },
   "outputs": [
    {
     "data": {
      "text/plain": [
       "Text(0.5, 0, 'Gender')"
      ]
     },
     "execution_count": 21,
     "metadata": {},
     "output_type": "execute_result"
    },
    {
     "data": {
      "image/png": "[encoded data removed]",
      "text/plain": [
       "<Figure size 432x288 with 1 Axes>"
      ]
     },
     "metadata": {
      "needs_background": "light"
     },
     "output_type": "display_data"
    }
   ],
   "source": [
    "sns.countplot('Pclass',data=train_titanic,hue='Survived')\n",
    "plt.title(\"Passenger Class and Survival rate diagram\")\n",
    "plt.ylabel(\"Number of passengers\")\n",
    "plt.xlabel(\"Gender\")"
   ]
  },
  {
   "cell_type": "markdown",
   "metadata": {
    "colab_type": "text",
    "id": "NUZfWW1trkwb"
   },
   "source": [
    "**Inference drawn from above diagram**\n",
    "* The survival rate of all threee classes passengers are more or less equal\n",
    "* Still, priority is given to first class passengers during rescue operations\n",
    "* Most of passengers in third class didn't survive the disaster"
   ]
  },
  {
   "cell_type": "markdown",
   "metadata": {
    "colab_type": "text",
    "id": "6JvvBFeZrkwe"
   },
   "source": [
    "**DROPPING COLUMNS THAT ARE NOT USED IN FURTHER ANALYSIS**"
   ]
  },
  {
   "cell_type": "code",
   "execution_count": 22,
   "metadata": {
    "colab": {},
    "colab_type": "code",
    "id": "jKV2eb4_rkwe"
   },
   "outputs": [],
   "source": [
    "train_titanic = train_titanic.drop(['Ticket', 'Cabin','Name'], axis=1)\n",
    "real_test_titanic = real_test_titanic.drop(['Ticket', 'Cabin','Name'], axis=1)"
   ]
  },
  {
   "cell_type": "code",
   "execution_count": 23,
   "metadata": {
    "colab": {
     "base_uri": "https://localhost:8080/",
     "height": 194
    },
    "colab_type": "code",
    "id": "9WDmqnhlrkwo",
    "outputId": "8d9152e9-fc5e-46b4-a215-d7b634ae93c8"
   },
   "outputs": [
    {
     "data": {
      "text/html": [
       "<div>\n",
       "<style scoped>\n",
       "    .dataframe tbody tr th:only-of-type {\n",
       "        vertical-align: middle;\n",
       "    }\n",
       "\n",
       "    .dataframe tbody tr th {\n",
       "        vertical-align: top;\n",
       "    }\n",
       "\n",
       "    .dataframe thead th {\n",
       "        text-align: right;\n",
       "    }\n",
       "</style>\n",
       "<table border=\"1\" class=\"dataframe\">\n",
       "  <thead>\n",
       "    <tr style=\"text-align: right;\">\n",
       "      <th></th>\n",
       "      <th>PassengerId</th>\n",
       "      <th>Survived</th>\n",
       "      <th>Pclass</th>\n",
       "      <th>Sex</th>\n",
       "      <th>Age</th>\n",
       "      <th>SibSp</th>\n",
       "      <th>Parch</th>\n",
       "      <th>Fare</th>\n",
       "      <th>Embarked</th>\n",
       "    </tr>\n",
       "  </thead>\n",
       "  <tbody>\n",
       "    <tr>\n",
       "      <td>0</td>\n",
       "      <td>1</td>\n",
       "      <td>0</td>\n",
       "      <td>3</td>\n",
       "      <td>male</td>\n",
       "      <td>22.0</td>\n",
       "      <td>1</td>\n",
       "      <td>0</td>\n",
       "      <td>7.2500</td>\n",
       "      <td>S</td>\n",
       "    </tr>\n",
       "    <tr>\n",
       "      <td>1</td>\n",
       "      <td>2</td>\n",
       "      <td>1</td>\n",
       "      <td>1</td>\n",
       "      <td>female</td>\n",
       "      <td>38.0</td>\n",
       "      <td>1</td>\n",
       "      <td>0</td>\n",
       "      <td>71.2833</td>\n",
       "      <td>C</td>\n",
       "    </tr>\n",
       "    <tr>\n",
       "      <td>2</td>\n",
       "      <td>3</td>\n",
       "      <td>1</td>\n",
       "      <td>3</td>\n",
       "      <td>female</td>\n",
       "      <td>26.0</td>\n",
       "      <td>0</td>\n",
       "      <td>0</td>\n",
       "      <td>7.9250</td>\n",
       "      <td>S</td>\n",
       "    </tr>\n",
       "    <tr>\n",
       "      <td>3</td>\n",
       "      <td>4</td>\n",
       "      <td>1</td>\n",
       "      <td>1</td>\n",
       "      <td>female</td>\n",
       "      <td>35.0</td>\n",
       "      <td>1</td>\n",
       "      <td>0</td>\n",
       "      <td>53.1000</td>\n",
       "      <td>S</td>\n",
       "    </tr>\n",
       "    <tr>\n",
       "      <td>4</td>\n",
       "      <td>5</td>\n",
       "      <td>0</td>\n",
       "      <td>3</td>\n",
       "      <td>male</td>\n",
       "      <td>35.0</td>\n",
       "      <td>0</td>\n",
       "      <td>0</td>\n",
       "      <td>8.0500</td>\n",
       "      <td>S</td>\n",
       "    </tr>\n",
       "  </tbody>\n",
       "</table>\n",
       "</div>"
      ],
      "text/plain": [
       "   PassengerId  Survived  Pclass     Sex   Age  SibSp  Parch     Fare Embarked\n",
       "0            1         0       3    male  22.0      1      0   7.2500        S\n",
       "1            2         1       1  female  38.0      1      0  71.2833        C\n",
       "2            3         1       3  female  26.0      0      0   7.9250        S\n",
       "3            4         1       1  female  35.0      1      0  53.1000        S\n",
       "4            5         0       3    male  35.0      0      0   8.0500        S"
      ]
     },
     "execution_count": 23,
     "metadata": {},
     "output_type": "execute_result"
    }
   ],
   "source": [
    "train_titanic.head()"
   ]
  },
  {
   "cell_type": "code",
   "execution_count": 24,
   "metadata": {
    "colab": {
     "base_uri": "https://localhost:8080/",
     "height": 194
    },
    "colab_type": "code",
    "id": "PQlqw1wwrkwt",
    "outputId": "a46b6ff7-b277-47ed-8aa5-ce057aa95f91"
   },
   "outputs": [
    {
     "data": {
      "text/html": [
       "<div>\n",
       "<style scoped>\n",
       "    .dataframe tbody tr th:only-of-type {\n",
       "        vertical-align: middle;\n",
       "    }\n",
       "\n",
       "    .dataframe tbody tr th {\n",
       "        vertical-align: top;\n",
       "    }\n",
       "\n",
       "    .dataframe thead th {\n",
       "        text-align: right;\n",
       "    }\n",
       "</style>\n",
       "<table border=\"1\" class=\"dataframe\">\n",
       "  <thead>\n",
       "    <tr style=\"text-align: right;\">\n",
       "      <th></th>\n",
       "      <th>PassengerId</th>\n",
       "      <th>Pclass</th>\n",
       "      <th>Sex</th>\n",
       "      <th>Age</th>\n",
       "      <th>SibSp</th>\n",
       "      <th>Parch</th>\n",
       "      <th>Fare</th>\n",
       "      <th>Embarked</th>\n",
       "    </tr>\n",
       "  </thead>\n",
       "  <tbody>\n",
       "    <tr>\n",
       "      <td>0</td>\n",
       "      <td>892</td>\n",
       "      <td>3</td>\n",
       "      <td>male</td>\n",
       "      <td>34.5</td>\n",
       "      <td>0</td>\n",
       "      <td>0</td>\n",
       "      <td>7.8292</td>\n",
       "      <td>Q</td>\n",
       "    </tr>\n",
       "    <tr>\n",
       "      <td>1</td>\n",
       "      <td>893</td>\n",
       "      <td>3</td>\n",
       "      <td>female</td>\n",
       "      <td>47.0</td>\n",
       "      <td>1</td>\n",
       "      <td>0</td>\n",
       "      <td>7.0000</td>\n",
       "      <td>S</td>\n",
       "    </tr>\n",
       "    <tr>\n",
       "      <td>2</td>\n",
       "      <td>894</td>\n",
       "      <td>2</td>\n",
       "      <td>male</td>\n",
       "      <td>62.0</td>\n",
       "      <td>0</td>\n",
       "      <td>0</td>\n",
       "      <td>9.6875</td>\n",
       "      <td>Q</td>\n",
       "    </tr>\n",
       "    <tr>\n",
       "      <td>3</td>\n",
       "      <td>895</td>\n",
       "      <td>3</td>\n",
       "      <td>male</td>\n",
       "      <td>27.0</td>\n",
       "      <td>0</td>\n",
       "      <td>0</td>\n",
       "      <td>8.6625</td>\n",
       "      <td>S</td>\n",
       "    </tr>\n",
       "    <tr>\n",
       "      <td>4</td>\n",
       "      <td>896</td>\n",
       "      <td>3</td>\n",
       "      <td>female</td>\n",
       "      <td>22.0</td>\n",
       "      <td>1</td>\n",
       "      <td>1</td>\n",
       "      <td>12.2875</td>\n",
       "      <td>S</td>\n",
       "    </tr>\n",
       "  </tbody>\n",
       "</table>\n",
       "</div>"
      ],
      "text/plain": [
       "   PassengerId  Pclass     Sex   Age  SibSp  Parch     Fare Embarked\n",
       "0          892       3    male  34.5      0      0   7.8292        Q\n",
       "1          893       3  female  47.0      1      0   7.0000        S\n",
       "2          894       2    male  62.0      0      0   9.6875        Q\n",
       "3          895       3    male  27.0      0      0   8.6625        S\n",
       "4          896       3  female  22.0      1      1  12.2875        S"
      ]
     },
     "execution_count": 24,
     "metadata": {},
     "output_type": "execute_result"
    }
   ],
   "source": [
    "real_test_titanic.head()"
   ]
  },
  {
   "cell_type": "code",
   "execution_count": 25,
   "metadata": {
    "colab": {},
    "colab_type": "code",
    "id": "vLzRpyCIrkww"
   },
   "outputs": [],
   "source": [
    "train_survived = train_titanic['Survived']"
   ]
  },
  {
   "cell_type": "markdown",
   "metadata": {
    "colab_type": "text",
    "id": "bj-rxaH1rkw1"
   },
   "source": [
    "**For further analysis**\n",
    "* **Replace 'male' with '1' and 'female' with '0' **\n",
    "* **Replace Embarked column values  - S with '0', C with '1', Q with '2'**"
   ]
  },
  {
   "cell_type": "code",
   "execution_count": 26,
   "metadata": {
    "colab": {},
    "colab_type": "code",
    "id": "nRE57U1drkw2"
   },
   "outputs": [],
   "source": [
    "train_titanic['Sex'] = train_titanic['Sex'].map( {'female': 0, 'male': 1} ).astype(int)\n",
    "train_titanic['Embarked'] = train_titanic['Embarked'].map( {'S': 0, 'C': 1, 'Q': 2} ).astype(int)"
   ]
  },
  {
   "cell_type": "code",
   "execution_count": 27,
   "metadata": {
    "colab": {
     "base_uri": "https://localhost:8080/",
     "height": 194
    },
    "colab_type": "code",
    "id": "rH15XUylrkw7",
    "outputId": "a6136a9b-8423-4710-d3f9-6627a052d3b8"
   },
   "outputs": [
    {
     "data": {
      "text/html": [
       "<div>\n",
       "<style scoped>\n",
       "    .dataframe tbody tr th:only-of-type {\n",
       "        vertical-align: middle;\n",
       "    }\n",
       "\n",
       "    .dataframe tbody tr th {\n",
       "        vertical-align: top;\n",
       "    }\n",
       "\n",
       "    .dataframe thead th {\n",
       "        text-align: right;\n",
       "    }\n",
       "</style>\n",
       "<table border=\"1\" class=\"dataframe\">\n",
       "  <thead>\n",
       "    <tr style=\"text-align: right;\">\n",
       "      <th></th>\n",
       "      <th>PassengerId</th>\n",
       "      <th>Survived</th>\n",
       "      <th>Pclass</th>\n",
       "      <th>Sex</th>\n",
       "      <th>Age</th>\n",
       "      <th>SibSp</th>\n",
       "      <th>Parch</th>\n",
       "      <th>Fare</th>\n",
       "      <th>Embarked</th>\n",
       "    </tr>\n",
       "  </thead>\n",
       "  <tbody>\n",
       "    <tr>\n",
       "      <td>0</td>\n",
       "      <td>1</td>\n",
       "      <td>0</td>\n",
       "      <td>3</td>\n",
       "      <td>1</td>\n",
       "      <td>22.0</td>\n",
       "      <td>1</td>\n",
       "      <td>0</td>\n",
       "      <td>7.2500</td>\n",
       "      <td>0</td>\n",
       "    </tr>\n",
       "    <tr>\n",
       "      <td>1</td>\n",
       "      <td>2</td>\n",
       "      <td>1</td>\n",
       "      <td>1</td>\n",
       "      <td>0</td>\n",
       "      <td>38.0</td>\n",
       "      <td>1</td>\n",
       "      <td>0</td>\n",
       "      <td>71.2833</td>\n",
       "      <td>1</td>\n",
       "    </tr>\n",
       "    <tr>\n",
       "      <td>2</td>\n",
       "      <td>3</td>\n",
       "      <td>1</td>\n",
       "      <td>3</td>\n",
       "      <td>0</td>\n",
       "      <td>26.0</td>\n",
       "      <td>0</td>\n",
       "      <td>0</td>\n",
       "      <td>7.9250</td>\n",
       "      <td>0</td>\n",
       "    </tr>\n",
       "    <tr>\n",
       "      <td>3</td>\n",
       "      <td>4</td>\n",
       "      <td>1</td>\n",
       "      <td>1</td>\n",
       "      <td>0</td>\n",
       "      <td>35.0</td>\n",
       "      <td>1</td>\n",
       "      <td>0</td>\n",
       "      <td>53.1000</td>\n",
       "      <td>0</td>\n",
       "    </tr>\n",
       "    <tr>\n",
       "      <td>4</td>\n",
       "      <td>5</td>\n",
       "      <td>0</td>\n",
       "      <td>3</td>\n",
       "      <td>1</td>\n",
       "      <td>35.0</td>\n",
       "      <td>0</td>\n",
       "      <td>0</td>\n",
       "      <td>8.0500</td>\n",
       "      <td>0</td>\n",
       "    </tr>\n",
       "  </tbody>\n",
       "</table>\n",
       "</div>"
      ],
      "text/plain": [
       "   PassengerId  Survived  Pclass  Sex   Age  SibSp  Parch     Fare  Embarked\n",
       "0            1         0       3    1  22.0      1      0   7.2500         0\n",
       "1            2         1       1    0  38.0      1      0  71.2833         1\n",
       "2            3         1       3    0  26.0      0      0   7.9250         0\n",
       "3            4         1       1    0  35.0      1      0  53.1000         0\n",
       "4            5         0       3    1  35.0      0      0   8.0500         0"
      ]
     },
     "execution_count": 27,
     "metadata": {},
     "output_type": "execute_result"
    }
   ],
   "source": [
    "train_titanic.head()"
   ]
  },
  {
   "cell_type": "code",
   "execution_count": 28,
   "metadata": {
    "colab": {},
    "colab_type": "code",
    "id": "noDF3W_frkw-"
   },
   "outputs": [],
   "source": [
    "real_test_titanic['Sex'] = real_test_titanic['Sex'].map( {'female': 0, 'male': 1} ).astype(int)\n",
    "real_test_titanic['Embarked'] = real_test_titanic['Embarked'].map( {'S': 0, 'C': 1, 'Q': 2} ).astype(int)"
   ]
  },
  {
   "cell_type": "code",
   "execution_count": 29,
   "metadata": {
    "colab": {
     "base_uri": "https://localhost:8080/",
     "height": 194
    },
    "colab_type": "code",
    "id": "B_LgusEzrkxD",
    "outputId": "c1646eb6-92b5-44de-dc2a-a12d11ff2124"
   },
   "outputs": [
    {
     "data": {
      "text/html": [
       "<div>\n",
       "<style scoped>\n",
       "    .dataframe tbody tr th:only-of-type {\n",
       "        vertical-align: middle;\n",
       "    }\n",
       "\n",
       "    .dataframe tbody tr th {\n",
       "        vertical-align: top;\n",
       "    }\n",
       "\n",
       "    .dataframe thead th {\n",
       "        text-align: right;\n",
       "    }\n",
       "</style>\n",
       "<table border=\"1\" class=\"dataframe\">\n",
       "  <thead>\n",
       "    <tr style=\"text-align: right;\">\n",
       "      <th></th>\n",
       "      <th>PassengerId</th>\n",
       "      <th>Pclass</th>\n",
       "      <th>Sex</th>\n",
       "      <th>Age</th>\n",
       "      <th>SibSp</th>\n",
       "      <th>Parch</th>\n",
       "      <th>Fare</th>\n",
       "      <th>Embarked</th>\n",
       "    </tr>\n",
       "  </thead>\n",
       "  <tbody>\n",
       "    <tr>\n",
       "      <td>0</td>\n",
       "      <td>892</td>\n",
       "      <td>3</td>\n",
       "      <td>1</td>\n",
       "      <td>34.5</td>\n",
       "      <td>0</td>\n",
       "      <td>0</td>\n",
       "      <td>7.8292</td>\n",
       "      <td>2</td>\n",
       "    </tr>\n",
       "    <tr>\n",
       "      <td>1</td>\n",
       "      <td>893</td>\n",
       "      <td>3</td>\n",
       "      <td>0</td>\n",
       "      <td>47.0</td>\n",
       "      <td>1</td>\n",
       "      <td>0</td>\n",
       "      <td>7.0000</td>\n",
       "      <td>0</td>\n",
       "    </tr>\n",
       "    <tr>\n",
       "      <td>2</td>\n",
       "      <td>894</td>\n",
       "      <td>2</td>\n",
       "      <td>1</td>\n",
       "      <td>62.0</td>\n",
       "      <td>0</td>\n",
       "      <td>0</td>\n",
       "      <td>9.6875</td>\n",
       "      <td>2</td>\n",
       "    </tr>\n",
       "    <tr>\n",
       "      <td>3</td>\n",
       "      <td>895</td>\n",
       "      <td>3</td>\n",
       "      <td>1</td>\n",
       "      <td>27.0</td>\n",
       "      <td>0</td>\n",
       "      <td>0</td>\n",
       "      <td>8.6625</td>\n",
       "      <td>0</td>\n",
       "    </tr>\n",
       "    <tr>\n",
       "      <td>4</td>\n",
       "      <td>896</td>\n",
       "      <td>3</td>\n",
       "      <td>0</td>\n",
       "      <td>22.0</td>\n",
       "      <td>1</td>\n",
       "      <td>1</td>\n",
       "      <td>12.2875</td>\n",
       "      <td>0</td>\n",
       "    </tr>\n",
       "  </tbody>\n",
       "</table>\n",
       "</div>"
      ],
      "text/plain": [
       "   PassengerId  Pclass  Sex   Age  SibSp  Parch     Fare  Embarked\n",
       "0          892       3    1  34.5      0      0   7.8292         2\n",
       "1          893       3    0  47.0      1      0   7.0000         0\n",
       "2          894       2    1  62.0      0      0   9.6875         2\n",
       "3          895       3    1  27.0      0      0   8.6625         0\n",
       "4          896       3    0  22.0      1      1  12.2875         0"
      ]
     },
     "execution_count": 29,
     "metadata": {},
     "output_type": "execute_result"
    }
   ],
   "source": [
    "real_test_titanic.head()"
   ]
  },
  {
   "cell_type": "markdown",
   "metadata": {
    "colab_type": "text",
    "id": "qZjv873LrkxH"
   },
   "source": [
    "**Make PassengeId as index column in both train and test data**"
   ]
  },
  {
   "cell_type": "code",
   "execution_count": 30,
   "metadata": {
    "colab": {},
    "colab_type": "code",
    "id": "lqRIdmiYrkxI"
   },
   "outputs": [],
   "source": [
    "train_titanic = train_titanic.set_index('PassengerId')\n",
    "real_test_titanic = real_test_titanic.set_index('PassengerId')"
   ]
  },
  {
   "cell_type": "code",
   "execution_count": 31,
   "metadata": {
    "colab": {
     "base_uri": "https://localhost:8080/",
     "height": 223
    },
    "colab_type": "code",
    "id": "RekbUCDVrkxN",
    "outputId": "53232ad4-7b92-4c37-efa4-92676eb4e3ab"
   },
   "outputs": [
    {
     "data": {
      "text/html": [
       "<div>\n",
       "<style scoped>\n",
       "    .dataframe tbody tr th:only-of-type {\n",
       "        vertical-align: middle;\n",
       "    }\n",
       "\n",
       "    .dataframe tbody tr th {\n",
       "        vertical-align: top;\n",
       "    }\n",
       "\n",
       "    .dataframe thead th {\n",
       "        text-align: right;\n",
       "    }\n",
       "</style>\n",
       "<table border=\"1\" class=\"dataframe\">\n",
       "  <thead>\n",
       "    <tr style=\"text-align: right;\">\n",
       "      <th></th>\n",
       "      <th>Pclass</th>\n",
       "      <th>Sex</th>\n",
       "      <th>Age</th>\n",
       "      <th>SibSp</th>\n",
       "      <th>Parch</th>\n",
       "      <th>Fare</th>\n",
       "      <th>Embarked</th>\n",
       "    </tr>\n",
       "    <tr>\n",
       "      <th>PassengerId</th>\n",
       "      <th></th>\n",
       "      <th></th>\n",
       "      <th></th>\n",
       "      <th></th>\n",
       "      <th></th>\n",
       "      <th></th>\n",
       "      <th></th>\n",
       "    </tr>\n",
       "  </thead>\n",
       "  <tbody>\n",
       "    <tr>\n",
       "      <td>892</td>\n",
       "      <td>3</td>\n",
       "      <td>1</td>\n",
       "      <td>34.5</td>\n",
       "      <td>0</td>\n",
       "      <td>0</td>\n",
       "      <td>7.8292</td>\n",
       "      <td>2</td>\n",
       "    </tr>\n",
       "    <tr>\n",
       "      <td>893</td>\n",
       "      <td>3</td>\n",
       "      <td>0</td>\n",
       "      <td>47.0</td>\n",
       "      <td>1</td>\n",
       "      <td>0</td>\n",
       "      <td>7.0000</td>\n",
       "      <td>0</td>\n",
       "    </tr>\n",
       "    <tr>\n",
       "      <td>894</td>\n",
       "      <td>2</td>\n",
       "      <td>1</td>\n",
       "      <td>62.0</td>\n",
       "      <td>0</td>\n",
       "      <td>0</td>\n",
       "      <td>9.6875</td>\n",
       "      <td>2</td>\n",
       "    </tr>\n",
       "    <tr>\n",
       "      <td>895</td>\n",
       "      <td>3</td>\n",
       "      <td>1</td>\n",
       "      <td>27.0</td>\n",
       "      <td>0</td>\n",
       "      <td>0</td>\n",
       "      <td>8.6625</td>\n",
       "      <td>0</td>\n",
       "    </tr>\n",
       "    <tr>\n",
       "      <td>896</td>\n",
       "      <td>3</td>\n",
       "      <td>0</td>\n",
       "      <td>22.0</td>\n",
       "      <td>1</td>\n",
       "      <td>1</td>\n",
       "      <td>12.2875</td>\n",
       "      <td>0</td>\n",
       "    </tr>\n",
       "  </tbody>\n",
       "</table>\n",
       "</div>"
      ],
      "text/plain": [
       "             Pclass  Sex   Age  SibSp  Parch     Fare  Embarked\n",
       "PassengerId                                                    \n",
       "892               3    1  34.5      0      0   7.8292         2\n",
       "893               3    0  47.0      1      0   7.0000         0\n",
       "894               2    1  62.0      0      0   9.6875         2\n",
       "895               3    1  27.0      0      0   8.6625         0\n",
       "896               3    0  22.0      1      1  12.2875         0"
      ]
     },
     "execution_count": 31,
     "metadata": {},
     "output_type": "execute_result"
    }
   ],
   "source": [
    "real_test_titanic.head()"
   ]
  },
  {
   "cell_type": "markdown",
   "metadata": {
    "colab_type": "text",
    "id": "uFsoeM4irkxQ"
   },
   "source": [
    "So, we now have our data set cleaned up and ready for machine learning algorithm analysis. Let's dive in by starting with Logistic Regression."
   ]
  },
  {
   "cell_type": "markdown",
   "metadata": {},
   "source": [
    "**MACHINE LEARNING ON TITANIC DATA**"
   ]
  },
  {
   "cell_type": "markdown",
   "metadata": {
    "colab_type": "text",
    "id": "Uhc75n1SrkxQ"
   },
   "source": [
    "**Train-Test Split**"
   ]
  },
  {
   "cell_type": "markdown",
   "metadata": {
    "colab_type": "text",
    "id": "PIs3cwtDrkxT"
   },
   "source": [
    "*From here on real_test_titanic will be kept apart and used only for prediction. The test data that you see below is derived from train data for model building purpose*"
   ]
  },
  {
   "cell_type": "code",
   "execution_count": 32,
   "metadata": {
    "colab": {
     "base_uri": "https://localhost:8080/",
     "height": 52
    },
    "colab_type": "code",
    "id": "FzCRBGcXrkxV",
    "outputId": "878a2876-3975-4330-a5f6-2703012b094f"
   },
   "outputs": [
    {
     "name": "stdout",
     "output_type": "stream",
     "text": [
      "Dimension of Train data : (801, 7)\n",
      "Dimension of Test data : (90, 7)\n"
     ]
    }
   ],
   "source": [
    "X = train_titanic.drop(['Survived'], axis = 1)\n",
    "y = train_titanic[\"Survived\"]\n",
    "x_train, x_test, y_train, y_test = train_test_split(X, y, test_size = 0.10)\n",
    "print(\"Dimension of Train data :\", x_train.shape)\n",
    "print(\"Dimension of Test data :\", x_test.shape)"
   ]
  },
  {
   "cell_type": "markdown",
   "metadata": {
    "colab_type": "text",
    "id": "pmWxfPxYrkxX"
   },
   "source": [
    "*The train test ratio selected is 90:10*"
   ]
  },
  {
   "cell_type": "markdown",
   "metadata": {
    "colab_type": "text",
    "id": "788WKmidrkxZ"
   },
   "source": [
    "**NEURAL NETWORK USING MLP CLASSIFIER**"
   ]
  },
  {
   "cell_type": "markdown",
   "metadata": {
    "colab_type": "text",
    "id": "L6lUTIMWrkxa"
   },
   "source": [
    "Before starting the process, the input data set is scaled using MinMaxScaler(). Default setting of MinMaxScaler is to bring down multi-range values to values between 0 and 1"
   ]
  },
  {
   "cell_type": "code",
   "execution_count": 33,
   "metadata": {
    "colab": {},
    "colab_type": "code",
    "id": "qN_1HV_Frkxe"
   },
   "outputs": [],
   "source": [
    "scaler = MinMaxScaler()\n",
    "x_train_scaled = scaler.fit_transform(x_train)\n",
    "x_test_scaled = scaler.transform(x_test)"
   ]
  },
  {
   "cell_type": "markdown",
   "metadata": {
    "colab_type": "text",
    "id": "s0yH4jvzrkxi"
   },
   "source": [
    "Let's try the MLPClassifier without any hyperparameter tuning and using some randomnly selected values"
   ]
  },
  {
   "cell_type": "code",
   "execution_count": 34,
   "metadata": {
    "colab": {
     "base_uri": "https://localhost:8080/",
     "height": 1000
    },
    "colab_type": "code",
    "id": "U2xxvUkYrkxk",
    "outputId": "b0abdb22-a82a-4702-ece6-fea9e96c2837"
   },
   "outputs": [
    {
     "name": "stdout",
     "output_type": "stream",
     "text": [
      "Iteration 1, loss = 0.71637646\n",
      "Iteration 2, loss = 0.71007861\n",
      "Iteration 3, loss = 0.70401674\n",
      "Iteration 4, loss = 0.69614917\n",
      "Iteration 5, loss = 0.68761647\n",
      "Iteration 6, loss = 0.68027252\n",
      "Iteration 7, loss = 0.67364006\n",
      "Iteration 8, loss = 0.66656285\n",
      "Iteration 9, loss = 0.66196844\n",
      "Iteration 10, loss = 0.65770757\n",
      "Iteration 11, loss = 0.65486713\n",
      "Iteration 12, loss = 0.65197817\n",
      "Iteration 13, loss = 0.64960812\n",
      "Iteration 14, loss = 0.64795287\n",
      "Iteration 15, loss = 0.64562113\n",
      "Iteration 16, loss = 0.64418481\n",
      "Iteration 17, loss = 0.64364319\n",
      "Iteration 18, loss = 0.64219488\n",
      "Iteration 19, loss = 0.64001138\n",
      "Iteration 20, loss = 0.63760625\n",
      "Iteration 21, loss = 0.63577806\n",
      "Iteration 22, loss = 0.63389737\n",
      "Iteration 23, loss = 0.63204143\n",
      "Iteration 24, loss = 0.63020834\n",
      "Iteration 25, loss = 0.62808661\n",
      "Iteration 26, loss = 0.62595180\n",
      "Iteration 27, loss = 0.62450452\n",
      "Iteration 28, loss = 0.62370066\n",
      "Iteration 29, loss = 0.62319930\n",
      "Iteration 30, loss = 0.62223627\n",
      "Iteration 31, loss = 0.62065708\n",
      "Iteration 32, loss = 0.61927480\n",
      "Iteration 33, loss = 0.61765347\n",
      "Iteration 34, loss = 0.61627888\n",
      "Iteration 35, loss = 0.61469800\n",
      "Iteration 36, loss = 0.61306669\n",
      "Iteration 37, loss = 0.61130425\n",
      "Iteration 38, loss = 0.60993491\n",
      "Iteration 39, loss = 0.60920605\n",
      "Iteration 40, loss = 0.60828761\n",
      "Iteration 41, loss = 0.60722156\n",
      "Iteration 42, loss = 0.60638576\n",
      "Iteration 43, loss = 0.60516507\n",
      "Iteration 44, loss = 0.60388986\n",
      "Iteration 45, loss = 0.60241794\n",
      "Iteration 46, loss = 0.60129334\n",
      "Iteration 47, loss = 0.60030282\n",
      "Iteration 48, loss = 0.59979327\n",
      "Iteration 49, loss = 0.59892756\n",
      "Iteration 50, loss = 0.59776988\n",
      "Iteration 51, loss = 0.59710806\n",
      "Iteration 52, loss = 0.59619099\n",
      "Iteration 53, loss = 0.59527324\n",
      "Iteration 54, loss = 0.59493077\n",
      "Iteration 55, loss = 0.59438605\n",
      "Iteration 56, loss = 0.59362789\n",
      "Iteration 57, loss = 0.59278514\n",
      "Iteration 58, loss = 0.59169744\n",
      "Iteration 59, loss = 0.59070629\n",
      "Iteration 60, loss = 0.58962466\n",
      "Iteration 61, loss = 0.58838754\n",
      "Iteration 62, loss = 0.58704571\n",
      "Iteration 63, loss = 0.58575262\n",
      "Iteration 64, loss = 0.58453758\n",
      "Iteration 65, loss = 0.58335164\n",
      "Iteration 66, loss = 0.58181847\n",
      "Iteration 67, loss = 0.58018627\n",
      "Iteration 68, loss = 0.57886129\n",
      "Iteration 69, loss = 0.57722795\n",
      "Iteration 70, loss = 0.57592056\n",
      "Iteration 71, loss = 0.57494579\n",
      "Iteration 72, loss = 0.57367484\n",
      "Iteration 73, loss = 0.57215694\n",
      "Iteration 74, loss = 0.57104400\n",
      "Iteration 75, loss = 0.56981781\n",
      "Iteration 76, loss = 0.56829923\n",
      "Iteration 77, loss = 0.56710859\n",
      "Iteration 78, loss = 0.56604897\n",
      "Iteration 79, loss = 0.56492610\n",
      "Iteration 80, loss = 0.56355470\n",
      "Iteration 81, loss = 0.56243143\n",
      "Iteration 82, loss = 0.56120156\n",
      "Iteration 83, loss = 0.55958837\n",
      "Iteration 84, loss = 0.55780121\n",
      "Iteration 85, loss = 0.55638061\n",
      "Iteration 86, loss = 0.55492629\n",
      "Iteration 87, loss = 0.55397568\n",
      "Iteration 88, loss = 0.55259705\n",
      "Iteration 89, loss = 0.55099246\n",
      "Iteration 90, loss = 0.54979389\n",
      "Iteration 91, loss = 0.54860806\n",
      "Iteration 92, loss = 0.54707273\n",
      "Iteration 93, loss = 0.54520920\n",
      "Iteration 94, loss = 0.54336431\n",
      "Iteration 95, loss = 0.54210906\n",
      "Iteration 96, loss = 0.54162546\n",
      "Iteration 97, loss = 0.54101329\n",
      "Iteration 98, loss = 0.54092678\n",
      "Iteration 99, loss = 0.54035198\n",
      "Iteration 100, loss = 0.53944308\n",
      "Iteration 101, loss = 0.53729488\n",
      "Iteration 102, loss = 0.53526863\n",
      "Iteration 103, loss = 0.53361572\n",
      "Iteration 104, loss = 0.53129655\n",
      "Iteration 105, loss = 0.52850869\n",
      "Iteration 106, loss = 0.52646387\n",
      "Iteration 107, loss = 0.52528962\n",
      "Iteration 108, loss = 0.52424972\n",
      "Iteration 109, loss = 0.52403278\n",
      "Iteration 110, loss = 0.52340354\n",
      "Iteration 111, loss = 0.52256522\n",
      "Iteration 112, loss = 0.52123967\n",
      "Iteration 113, loss = 0.51981305\n",
      "Iteration 114, loss = 0.51811280\n",
      "Iteration 115, loss = 0.51651364\n",
      "Iteration 116, loss = 0.51529652\n",
      "Iteration 117, loss = 0.51385993\n",
      "Iteration 118, loss = 0.51268095\n",
      "Iteration 119, loss = 0.51114948\n",
      "Iteration 120, loss = 0.50985381\n",
      "Iteration 121, loss = 0.50861549\n",
      "Iteration 122, loss = 0.50730777\n",
      "Iteration 123, loss = 0.50580012\n",
      "Iteration 124, loss = 0.50420230\n",
      "Iteration 125, loss = 0.50284169\n",
      "Iteration 126, loss = 0.50185089\n",
      "Iteration 127, loss = 0.50125512\n",
      "Iteration 128, loss = 0.50040814\n",
      "Iteration 129, loss = 0.49967220\n",
      "Iteration 130, loss = 0.49849282\n",
      "Iteration 131, loss = 0.49732259\n",
      "Iteration 132, loss = 0.49624803\n",
      "Iteration 133, loss = 0.49482119\n",
      "Iteration 134, loss = 0.49362516\n",
      "Iteration 135, loss = 0.49226916\n",
      "Iteration 136, loss = 0.49131818\n",
      "Iteration 137, loss = 0.49089146\n",
      "Iteration 138, loss = 0.49076733\n",
      "Iteration 139, loss = 0.48950116\n",
      "Iteration 140, loss = 0.48775640\n",
      "Iteration 141, loss = 0.48694346\n",
      "Iteration 142, loss = 0.48641445\n",
      "Iteration 143, loss = 0.48555527\n",
      "Iteration 144, loss = 0.48600327\n",
      "Iteration 145, loss = 0.48739205\n",
      "Iteration 146, loss = 0.48694744\n",
      "Iteration 147, loss = 0.48552988\n",
      "Iteration 148, loss = 0.48407922\n",
      "Iteration 149, loss = 0.48312936\n",
      "Iteration 150, loss = 0.48263949\n",
      "Iteration 151, loss = 0.48337744\n",
      "Iteration 152, loss = 0.48475093\n",
      "Iteration 153, loss = 0.48558895\n",
      "Iteration 154, loss = 0.48644150\n",
      "Iteration 155, loss = 0.48495691\n",
      "Iteration 156, loss = 0.48333777\n",
      "Iteration 157, loss = 0.48145504\n",
      "Iteration 158, loss = 0.47990938\n",
      "Iteration 159, loss = 0.47986459\n",
      "Iteration 160, loss = 0.47989333\n",
      "Iteration 161, loss = 0.47830530\n",
      "Iteration 162, loss = 0.47719577\n",
      "Iteration 163, loss = 0.47649355\n",
      "Iteration 164, loss = 0.47566991\n",
      "Iteration 165, loss = 0.47490405\n",
      "Iteration 166, loss = 0.47438629\n",
      "Iteration 167, loss = 0.47371320\n",
      "Iteration 168, loss = 0.47308526\n",
      "Iteration 169, loss = 0.47333581\n",
      "Iteration 170, loss = 0.47319337\n",
      "Iteration 171, loss = 0.47358344\n",
      "Iteration 172, loss = 0.47321962\n",
      "Iteration 173, loss = 0.47234234\n",
      "Iteration 174, loss = 0.47138210\n",
      "Iteration 175, loss = 0.47023768\n",
      "Iteration 176, loss = 0.47072807\n",
      "Iteration 177, loss = 0.47104697\n",
      "Iteration 178, loss = 0.47036907\n",
      "Iteration 179, loss = 0.46933053\n",
      "Iteration 180, loss = 0.46809059\n",
      "Iteration 181, loss = 0.46784742\n",
      "Iteration 182, loss = 0.46804676\n",
      "Iteration 183, loss = 0.46746458\n",
      "Iteration 184, loss = 0.46710054\n",
      "Iteration 185, loss = 0.46701755\n",
      "Iteration 186, loss = 0.46693712\n",
      "Iteration 187, loss = 0.46762180\n",
      "Iteration 188, loss = 0.46768842\n",
      "Iteration 189, loss = 0.46659048\n",
      "Iteration 190, loss = 0.46569271\n",
      "Iteration 191, loss = 0.46505273\n",
      "Iteration 192, loss = 0.46467397\n",
      "Iteration 193, loss = 0.46473421\n",
      "Iteration 194, loss = 0.46486471\n",
      "Iteration 195, loss = 0.46473061\n",
      "Iteration 196, loss = 0.46467912\n",
      "Iteration 197, loss = 0.46351122\n",
      "Iteration 198, loss = 0.46310877\n",
      "Iteration 199, loss = 0.46257416\n",
      "Iteration 200, loss = 0.46248606\n",
      "Iteration 201, loss = 0.46229572\n",
      "Iteration 202, loss = 0.46210606\n",
      "Iteration 203, loss = 0.46236755\n",
      "Iteration 204, loss = 0.46233277\n",
      "Iteration 205, loss = 0.46088859\n",
      "Iteration 206, loss = 0.46074910\n",
      "Iteration 207, loss = 0.46096957\n",
      "Iteration 208, loss = 0.46051313\n",
      "Iteration 209, loss = 0.46050418\n",
      "Iteration 210, loss = 0.46030576\n",
      "Iteration 211, loss = 0.46036644\n",
      "Iteration 212, loss = 0.46012993\n",
      "Iteration 213, loss = 0.46082790\n",
      "Iteration 214, loss = 0.46147239\n",
      "Iteration 215, loss = 0.46153811\n",
      "Iteration 216, loss = 0.46244866\n",
      "Iteration 217, loss = 0.46281667\n",
      "Iteration 218, loss = 0.46084264\n",
      "Iteration 219, loss = 0.45838487\n",
      "Iteration 220, loss = 0.45812860\n",
      "Iteration 221, loss = 0.45923688\n",
      "Iteration 222, loss = 0.45918958\n",
      "Iteration 223, loss = 0.45952786\n",
      "Iteration 224, loss = 0.45997977\n",
      "Iteration 225, loss = 0.46036619\n",
      "Iteration 226, loss = 0.46006765\n",
      "Iteration 227, loss = 0.45955282\n",
      "Iteration 228, loss = 0.45899731\n",
      "Iteration 229, loss = 0.45872161\n",
      "Iteration 230, loss = 0.45798079\n",
      "Iteration 231, loss = 0.45753786\n",
      "Iteration 232, loss = 0.45739039\n",
      "Iteration 233, loss = 0.45731640\n",
      "Iteration 234, loss = 0.45708283\n",
      "Iteration 235, loss = 0.45697042\n",
      "Iteration 236, loss = 0.45750042\n",
      "Iteration 237, loss = 0.46045928\n",
      "Iteration 238, loss = 0.46005763\n",
      "Iteration 239, loss = 0.45963362\n",
      "Iteration 240, loss = 0.45912783\n",
      "Iteration 241, loss = 0.45963920\n",
      "Iteration 242, loss = 0.46120634\n",
      "Iteration 243, loss = 0.46260140\n",
      "Iteration 244, loss = 0.46295478\n",
      "Iteration 245, loss = 0.46488396\n",
      "Iteration 246, loss = 0.46734152\n",
      "Training loss did not improve more than tol=0.000100 for 10 consecutive epochs. Setting learning rate to 0.000200\n",
      "Iteration 247, loss = 0.46646144\n",
      "Iteration 248, loss = 0.46523079\n",
      "Iteration 249, loss = 0.46418688\n",
      "Iteration 250, loss = 0.46327437\n",
      "Iteration 251, loss = 0.46207758\n",
      "Iteration 252, loss = 0.46162058\n",
      "Iteration 253, loss = 0.46095816\n",
      "Iteration 254, loss = 0.46046541\n",
      "Iteration 255, loss = 0.46025258\n",
      "Iteration 256, loss = 0.45977840\n",
      "Iteration 257, loss = 0.45970839\n",
      "Training loss did not improve more than tol=0.000100 for 10 consecutive epochs. Setting learning rate to 0.000040\n",
      "Iteration 258, loss = 0.45968944\n",
      "Iteration 259, loss = 0.45970627\n",
      "Iteration 260, loss = 0.45971744\n",
      "Iteration 261, loss = 0.45973810\n",
      "Iteration 262, loss = 0.45977406\n",
      "Iteration 263, loss = 0.45985565\n",
      "Iteration 264, loss = 0.45991955\n",
      "Iteration 265, loss = 0.45993001\n",
      "Iteration 266, loss = 0.45997475\n",
      "Iteration 267, loss = 0.45998592\n",
      "Iteration 268, loss = 0.45998000\n",
      "Training loss did not improve more than tol=0.000100 for 10 consecutive epochs. Setting learning rate to 0.000008\n",
      "Iteration 269, loss = 0.45997013\n",
      "Iteration 270, loss = 0.45995909\n",
      "Iteration 271, loss = 0.45994686\n",
      "Iteration 272, loss = 0.45993643\n",
      "Iteration 273, loss = 0.45992791\n",
      "Iteration 274, loss = 0.45991703\n",
      "Iteration 275, loss = 0.45990533\n",
      "Iteration 276, loss = 0.45989531\n",
      "Iteration 277, loss = 0.45988596\n",
      "Iteration 278, loss = 0.45988401\n",
      "Iteration 279, loss = 0.45988551\n",
      "Training loss did not improve more than tol=0.000100 for 10 consecutive epochs. Setting learning rate to 0.000002\n",
      "Iteration 280, loss = 0.45988446\n",
      "Iteration 281, loss = 0.45988612\n",
      "Iteration 282, loss = 0.45988665\n",
      "Iteration 283, loss = 0.45988510\n",
      "Iteration 284, loss = 0.45988155\n",
      "Iteration 285, loss = 0.45988079\n",
      "Iteration 286, loss = 0.45988125\n",
      "Iteration 287, loss = 0.45988263\n",
      "Iteration 288, loss = 0.45988366\n",
      "Iteration 289, loss = 0.45988392\n",
      "Iteration 290, loss = 0.45988129\n",
      "Training loss did not improve more than tol=0.000100 for 10 consecutive epochs. Setting learning rate to 0.000000\n",
      "Iteration 291, loss = 0.45987913\n",
      "Iteration 292, loss = 0.45987742\n",
      "Iteration 293, loss = 0.45987652\n",
      "Iteration 294, loss = 0.45987587\n",
      "Iteration 295, loss = 0.45987505\n",
      "Iteration 296, loss = 0.45987419\n",
      "Iteration 297, loss = 0.45987373\n",
      "Iteration 298, loss = 0.45987340\n",
      "Iteration 299, loss = 0.45987286\n",
      "Iteration 300, loss = 0.45987158\n",
      "Iteration 301, loss = 0.45987044\n",
      "Training loss did not improve more than tol=0.000100 for 10 consecutive epochs. Learning rate too small. Stopping.\n"
     ]
    }
   ],
   "source": [
    "mlp_model = MLPClassifier(hidden_layer_sizes=(150,150,150),activation ='relu', max_iter=500, alpha=0.0001,\n",
    "                     solver='sgd', verbose=10, learning_rate = 'adaptive', momentum=0.9)\n",
    "\n",
    "mlp_model.fit(x_train_scaled, y_train)\n",
    "y_pred = mlp_model.predict(x_test_scaled)\n"
   ]
  },
  {
   "cell_type": "code",
   "execution_count": 35,
   "metadata": {
    "colab": {
     "base_uri": "https://localhost:8080/",
     "height": 88
    },
    "colab_type": "code",
    "id": "JDyYbONIrkxq",
    "outputId": "dc2db56c-d6f5-45a5-a47d-922aed5583be"
   },
   "outputs": [
    {
     "name": "stdout",
     "output_type": "stream",
     "text": [
      "Confusion Matrix \n",
      " [[44  6]\n",
      " [14 26]]\n",
      "Accuracy: 0.78\n"
     ]
    }
   ],
   "source": [
    "confusion = confusion_matrix(y_test, y_pred)\n",
    "print('Confusion Matrix \\n', confusion)\n",
    "print('Accuracy: {:.2f}'.format(accuracy_score(y_test, y_pred)))"
   ]
  },
  {
   "cell_type": "markdown",
   "metadata": {
    "colab_type": "text",
    "id": "Dv9goif3rkxv"
   },
   "source": [
    "The above analysis shows that there is fairly decent accuracy of 78%. However, more insights can be drawn using hyperparameter optimization and running the model with best parameters"
   ]
  },
  {
   "cell_type": "markdown",
   "metadata": {
    "colab_type": "text",
    "id": "5l-J0VWkrkxy"
   },
   "source": [
    "#### Hyperparameter Optimization for MLPClassifier"
   ]
  },
  {
   "cell_type": "markdown",
   "metadata": {
    "colab_type": "text",
    "id": "evi-x7eerkx0"
   },
   "source": [
    "Start with defining the parameter values"
   ]
  },
  {
   "cell_type": "code",
   "execution_count": 36,
   "metadata": {
    "colab": {},
    "colab_type": "code",
    "id": "stZ3RuB9rkx2"
   },
   "outputs": [],
   "source": [
    "classifier = MLPClassifier()\n",
    "parameter_space = {\n",
    "    'hidden_layer_sizes': [(50,50,50), (100,100,100), (150,150,150), (200,200,200)],\n",
    "    'activation': ['tanh', 'relu', 'logistic'],\n",
    "    'solver': ['sgd', 'adam'],\n",
    "    'alpha': [0.0001, 0.05],\n",
    "    'learning_rate': ['constant','adaptive'],\n",
    "}"
   ]
  },
  {
   "cell_type": "code",
   "execution_count": 37,
   "metadata": {
    "colab": {
     "base_uri": "https://localhost:8080/",
     "height": 464
    },
    "colab_type": "code",
    "id": "Sc4JEQdLrkx6",
    "outputId": "1f228a18-fe51-4328-b3cb-d20f4a6dc637"
   },
   "outputs": [
    {
     "name": "stderr",
     "output_type": "stream",
     "text": [
      "/opt/conda/lib/python3.6/site-packages/sklearn/model_selection/_search.py:814: DeprecationWarning: The default of the `iid` parameter will change from True to False in version 0.22 and will be removed in 0.24. This will change numeric results when test-set sizes are unequal.\n",
      "  DeprecationWarning)\n"
     ]
    },
    {
     "data": {
      "text/plain": [
       "GridSearchCV(cv=3, error_score='raise-deprecating',\n",
       "             estimator=MLPClassifier(activation='relu', alpha=0.0001,\n",
       "                                     batch_size='auto', beta_1=0.9,\n",
       "                                     beta_2=0.999, early_stopping=False,\n",
       "                                     epsilon=1e-08, hidden_layer_sizes=(100,),\n",
       "                                     learning_rate='constant',\n",
       "                                     learning_rate_init=0.001, max_iter=200,\n",
       "                                     momentum=0.9, n_iter_no_change=10,\n",
       "                                     nesterovs_momentum=True, power_t=0.5,\n",
       "                                     random_sta...\n",
       "                                     validation_fraction=0.1, verbose=False,\n",
       "                                     warm_start=False),\n",
       "             iid='warn', n_jobs=-1,\n",
       "             param_grid={'activation': ['tanh', 'relu', 'logistic'],\n",
       "                         'alpha': [0.0001, 0.05],\n",
       "                         'hidden_layer_sizes': [(50, 50, 50), (100, 100, 100),\n",
       "                                                (150, 150, 150),\n",
       "                                                (200, 200, 200)],\n",
       "                         'learning_rate': ['constant', 'adaptive'],\n",
       "                         'solver': ['sgd', 'adam']},\n",
       "             pre_dispatch='2*n_jobs', refit=True, return_train_score=False,\n",
       "             scoring=None, verbose=0)"
      ]
     },
     "execution_count": 37,
     "metadata": {},
     "output_type": "execute_result"
    }
   ],
   "source": [
    "model = GridSearchCV(classifier, parameter_space, n_jobs=-1, cv=3)\n",
    "model.fit(x_train_scaled, y_train)"
   ]
  },
  {
   "cell_type": "code",
   "execution_count": 38,
   "metadata": {
    "colab": {
     "base_uri": "https://localhost:8080/",
     "height": 35
    },
    "colab_type": "code",
    "id": "4R2bs1Xgrkx9",
    "outputId": "fd5ee212-fa11-4ac7-9354-53a8d790f9ab"
   },
   "outputs": [
    {
     "name": "stdout",
     "output_type": "stream",
     "text": [
      "Best parameters calculated : {'activation': 'relu', 'alpha': 0.05, 'hidden_layer_sizes': (150, 150, 150), 'learning_rate': 'adaptive', 'solver': 'adam'}\n"
     ]
    }
   ],
   "source": [
    "print('Best parameters calculated :', model.best_params_)"
   ]
  },
  {
   "cell_type": "code",
   "execution_count": 39,
   "metadata": {
    "colab": {},
    "colab_type": "code",
    "id": "OYyurboZrkyC"
   },
   "outputs": [],
   "source": [
    "predicted_y = model.predict(x_test_scaled)\n"
   ]
  },
  {
   "cell_type": "code",
   "execution_count": 40,
   "metadata": {
    "colab": {
     "base_uri": "https://localhost:8080/",
     "height": 88
    },
    "colab_type": "code",
    "id": "9tt-LSwgrkyE",
    "outputId": "7dc521c9-c6d8-4973-c98b-976ba39c3475"
   },
   "outputs": [
    {
     "name": "stdout",
     "output_type": "stream",
     "text": [
      "Confusion Matrix after hyperparameter optimization \n",
      " [[46  4]\n",
      " [10 30]]\n",
      "Accuracy after hyperparameter optimization: 0.84\n"
     ]
    }
   ],
   "source": [
    "confusion = confusion_matrix(y_test, predicted_y)\n",
    "print('Confusion Matrix after hyperparameter optimization \\n', confusion)\n",
    "print('Accuracy after hyperparameter optimization: {:.2f}'.format(accuracy_score(y_test, predicted_y)))"
   ]
  },
  {
   "cell_type": "markdown",
   "metadata": {
    "colab_type": "text",
    "id": "A9EdtBszrkyI"
   },
   "source": [
    "The above two analysis shows that there isn't much variation in accuracy scores and confusion matrices for both randomnly picked values and hyperparameter optimization values dont have much difference. Let us now see if these scores can be improved using Keras."
   ]
  },
  {
   "cell_type": "markdown",
   "metadata": {
    "colab_type": "text",
    "id": "yTrbXDairkyJ"
   },
   "source": [
    "**NEURAL NETWORK USING KERAS**"
   ]
  },
  {
   "cell_type": "markdown",
   "metadata": {
    "colab_type": "text",
    "id": "jzEmJHeSrkyK"
   },
   "source": [
    "Like in the previous analysis, let us start with performing a Keras Sequential classifier with randomnly selected values. The total number of hidden layers selected is 2 for simplicity with 10 and 15 nodes each. "
   ]
  },
  {
   "cell_type": "code",
   "execution_count": 41,
   "metadata": {
    "colab": {
     "base_uri": "https://localhost:8080/",
     "height": 1000
    },
    "colab_type": "code",
    "id": "5o5xKS8IrkyL",
    "outputId": "143a0621-c82b-42b0-b85d-892bc7b7f5f8"
   },
   "outputs": [
    {
     "name": "stdout",
     "output_type": "stream",
     "text": [
      "Epoch 1/300\n",
      "801/801 [==============================] - 0s 372us/step - loss: 0.6679 - accuracy: 0.5905\n",
      "Epoch 2/300\n",
      "801/801 [==============================] - 0s 59us/step - loss: 0.6262 - accuracy: 0.6367\n",
      "Epoch 3/300\n",
      "801/801 [==============================] - 0s 56us/step - loss: 0.5960 - accuracy: 0.6529\n",
      "Epoch 4/300\n",
      "801/801 [==============================] - 0s 58us/step - loss: 0.5682 - accuracy: 0.7041\n",
      "Epoch 5/300\n",
      "801/801 [==============================] - 0s 59us/step - loss: 0.5418 - accuracy: 0.7591\n",
      "Epoch 6/300\n",
      "801/801 [==============================] - 0s 57us/step - loss: 0.5201 - accuracy: 0.7915\n",
      "Epoch 7/300\n",
      "801/801 [==============================] - 0s 57us/step - loss: 0.5032 - accuracy: 0.7990\n",
      "Epoch 8/300\n",
      "801/801 [==============================] - 0s 56us/step - loss: 0.4915 - accuracy: 0.8002\n",
      "Epoch 9/300\n",
      "801/801 [==============================] - 0s 57us/step - loss: 0.4831 - accuracy: 0.8040\n",
      "Epoch 10/300\n",
      "801/801 [==============================] - 0s 56us/step - loss: 0.4772 - accuracy: 0.8027\n",
      "Epoch 11/300\n",
      "801/801 [==============================] - 0s 63us/step - loss: 0.4727 - accuracy: 0.7978\n",
      "Epoch 12/300\n",
      "801/801 [==============================] - 0s 57us/step - loss: 0.4693 - accuracy: 0.7965\n",
      "Epoch 13/300\n",
      "801/801 [==============================] - 0s 58us/step - loss: 0.4652 - accuracy: 0.7965\n",
      "Epoch 14/300\n",
      "801/801 [==============================] - 0s 59us/step - loss: 0.4638 - accuracy: 0.8115\n",
      "Epoch 15/300\n",
      "801/801 [==============================] - 0s 58us/step - loss: 0.4607 - accuracy: 0.8027\n",
      "Epoch 16/300\n",
      "801/801 [==============================] - 0s 58us/step - loss: 0.4601 - accuracy: 0.7940\n",
      "Epoch 17/300\n",
      "801/801 [==============================] - 0s 59us/step - loss: 0.4568 - accuracy: 0.7965\n",
      "Epoch 18/300\n",
      "801/801 [==============================] - 0s 58us/step - loss: 0.4570 - accuracy: 0.7990\n",
      "Epoch 19/300\n",
      "801/801 [==============================] - 0s 58us/step - loss: 0.4552 - accuracy: 0.7978\n",
      "Epoch 20/300\n",
      "801/801 [==============================] - 0s 59us/step - loss: 0.4533 - accuracy: 0.8002\n",
      "Epoch 21/300\n",
      "801/801 [==============================] - 0s 61us/step - loss: 0.4525 - accuracy: 0.8015\n",
      "Epoch 22/300\n",
      "801/801 [==============================] - 0s 66us/step - loss: 0.4504 - accuracy: 0.7915\n",
      "Epoch 23/300\n",
      "801/801 [==============================] - 0s 62us/step - loss: 0.4492 - accuracy: 0.7965\n",
      "Epoch 24/300\n",
      "801/801 [==============================] - 0s 59us/step - loss: 0.4486 - accuracy: 0.7928\n",
      "Epoch 25/300\n",
      "801/801 [==============================] - 0s 59us/step - loss: 0.4498 - accuracy: 0.8052\n",
      "Epoch 26/300\n",
      "801/801 [==============================] - 0s 58us/step - loss: 0.4468 - accuracy: 0.7953\n",
      "Epoch 27/300\n",
      "801/801 [==============================] - 0s 58us/step - loss: 0.4461 - accuracy: 0.7953\n",
      "Epoch 28/300\n",
      "801/801 [==============================] - 0s 60us/step - loss: 0.4462 - accuracy: 0.7965\n",
      "Epoch 29/300\n",
      "801/801 [==============================] - 0s 58us/step - loss: 0.4462 - accuracy: 0.7990\n",
      "Epoch 30/300\n",
      "801/801 [==============================] - 0s 60us/step - loss: 0.4449 - accuracy: 0.8040\n",
      "Epoch 31/300\n",
      "801/801 [==============================] - 0s 62us/step - loss: 0.4413 - accuracy: 0.7990\n",
      "Epoch 32/300\n",
      "801/801 [==============================] - 0s 57us/step - loss: 0.4415 - accuracy: 0.7953\n",
      "Epoch 33/300\n",
      "801/801 [==============================] - 0s 57us/step - loss: 0.4411 - accuracy: 0.7953\n",
      "Epoch 34/300\n",
      "801/801 [==============================] - 0s 59us/step - loss: 0.4406 - accuracy: 0.8002\n",
      "Epoch 35/300\n",
      "801/801 [==============================] - 0s 59us/step - loss: 0.4447 - accuracy: 0.7915\n",
      "Epoch 36/300\n",
      "801/801 [==============================] - 0s 56us/step - loss: 0.4405 - accuracy: 0.7990\n",
      "Epoch 37/300\n",
      "801/801 [==============================] - 0s 57us/step - loss: 0.4405 - accuracy: 0.7978\n",
      "Epoch 38/300\n",
      "801/801 [==============================] - 0s 58us/step - loss: 0.4411 - accuracy: 0.8002\n",
      "Epoch 39/300\n",
      "801/801 [==============================] - 0s 57us/step - loss: 0.4386 - accuracy: 0.8027\n",
      "Epoch 40/300\n",
      "801/801 [==============================] - 0s 57us/step - loss: 0.4376 - accuracy: 0.8015\n",
      "Epoch 41/300\n",
      "801/801 [==============================] - 0s 58us/step - loss: 0.4389 - accuracy: 0.8090\n",
      "Epoch 42/300\n",
      "801/801 [==============================] - 0s 59us/step - loss: 0.4386 - accuracy: 0.8052\n",
      "Epoch 43/300\n",
      "801/801 [==============================] - 0s 56us/step - loss: 0.4365 - accuracy: 0.8077\n",
      "Epoch 44/300\n",
      "801/801 [==============================] - 0s 56us/step - loss: 0.4347 - accuracy: 0.8015\n",
      "Epoch 45/300\n",
      "801/801 [==============================] - 0s 59us/step - loss: 0.4352 - accuracy: 0.8015\n",
      "Epoch 46/300\n",
      "801/801 [==============================] - 0s 57us/step - loss: 0.4334 - accuracy: 0.8015\n",
      "Epoch 47/300\n",
      "801/801 [==============================] - 0s 55us/step - loss: 0.4336 - accuracy: 0.8002\n",
      "Epoch 48/300\n",
      "801/801 [==============================] - 0s 56us/step - loss: 0.4351 - accuracy: 0.8040\n",
      "Epoch 49/300\n",
      "801/801 [==============================] - 0s 55us/step - loss: 0.4344 - accuracy: 0.7978\n",
      "Epoch 50/300\n",
      "801/801 [==============================] - 0s 57us/step - loss: 0.4325 - accuracy: 0.8002\n",
      "Epoch 51/300\n",
      "801/801 [==============================] - 0s 57us/step - loss: 0.4312 - accuracy: 0.8040\n",
      "Epoch 52/300\n",
      "801/801 [==============================] - 0s 61us/step - loss: 0.4343 - accuracy: 0.7940\n",
      "Epoch 53/300\n",
      "801/801 [==============================] - 0s 57us/step - loss: 0.4314 - accuracy: 0.7965\n",
      "Epoch 54/300\n",
      "801/801 [==============================] - 0s 57us/step - loss: 0.4311 - accuracy: 0.8052\n",
      "Epoch 55/300\n",
      "801/801 [==============================] - 0s 56us/step - loss: 0.4295 - accuracy: 0.8052\n",
      "Epoch 56/300\n",
      "801/801 [==============================] - 0s 55us/step - loss: 0.4306 - accuracy: 0.8077\n",
      "Epoch 57/300\n",
      "801/801 [==============================] - 0s 56us/step - loss: 0.4288 - accuracy: 0.8015\n",
      "Epoch 58/300\n",
      "801/801 [==============================] - 0s 58us/step - loss: 0.4296 - accuracy: 0.8077\n",
      "Epoch 59/300\n",
      "801/801 [==============================] - 0s 59us/step - loss: 0.4278 - accuracy: 0.8115\n",
      "Epoch 60/300\n",
      "801/801 [==============================] - 0s 59us/step - loss: 0.4282 - accuracy: 0.8040\n",
      "Epoch 61/300\n",
      "801/801 [==============================] - 0s 60us/step - loss: 0.4271 - accuracy: 0.8065\n",
      "Epoch 62/300\n",
      "801/801 [==============================] - 0s 60us/step - loss: 0.4279 - accuracy: 0.8090\n",
      "Epoch 63/300\n",
      "801/801 [==============================] - 0s 59us/step - loss: 0.4256 - accuracy: 0.8102\n",
      "Epoch 64/300\n",
      "801/801 [==============================] - 0s 59us/step - loss: 0.4256 - accuracy: 0.8102\n",
      "Epoch 65/300\n",
      "801/801 [==============================] - 0s 59us/step - loss: 0.4258 - accuracy: 0.8065\n",
      "Epoch 66/300\n",
      "801/801 [==============================] - 0s 62us/step - loss: 0.4237 - accuracy: 0.8040\n",
      "Epoch 67/300\n",
      "801/801 [==============================] - 0s 60us/step - loss: 0.4256 - accuracy: 0.8102\n",
      "Epoch 68/300\n",
      "801/801 [==============================] - 0s 59us/step - loss: 0.4243 - accuracy: 0.8102\n",
      "Epoch 69/300\n",
      "801/801 [==============================] - 0s 58us/step - loss: 0.4233 - accuracy: 0.8090\n",
      "Epoch 70/300\n",
      "801/801 [==============================] - 0s 58us/step - loss: 0.4220 - accuracy: 0.8102\n",
      "Epoch 71/300\n",
      "801/801 [==============================] - 0s 59us/step - loss: 0.4228 - accuracy: 0.8102\n",
      "Epoch 72/300\n",
      "801/801 [==============================] - 0s 61us/step - loss: 0.4257 - accuracy: 0.7990\n",
      "Epoch 73/300\n",
      "801/801 [==============================] - 0s 70us/step - loss: 0.4224 - accuracy: 0.8115\n",
      "Epoch 74/300\n",
      "801/801 [==============================] - 0s 61us/step - loss: 0.4218 - accuracy: 0.8090\n",
      "Epoch 75/300\n",
      "801/801 [==============================] - 0s 58us/step - loss: 0.4210 - accuracy: 0.8115\n",
      "Epoch 76/300\n",
      "801/801 [==============================] - 0s 59us/step - loss: 0.4218 - accuracy: 0.8115\n",
      "Epoch 77/300\n",
      "801/801 [==============================] - 0s 59us/step - loss: 0.4192 - accuracy: 0.8140\n",
      "Epoch 78/300\n",
      "801/801 [==============================] - 0s 59us/step - loss: 0.4204 - accuracy: 0.8165\n",
      "Epoch 79/300\n",
      "801/801 [==============================] - 0s 59us/step - loss: 0.4204 - accuracy: 0.8165\n",
      "Epoch 80/300\n",
      "801/801 [==============================] - 0s 60us/step - loss: 0.4196 - accuracy: 0.8190\n",
      "Epoch 81/300\n",
      "801/801 [==============================] - 0s 59us/step - loss: 0.4181 - accuracy: 0.8202\n",
      "Epoch 82/300\n",
      "801/801 [==============================] - 0s 62us/step - loss: 0.4165 - accuracy: 0.8227\n",
      "Epoch 83/300\n",
      "801/801 [==============================] - 0s 62us/step - loss: 0.4185 - accuracy: 0.8165\n",
      "Epoch 84/300\n",
      "801/801 [==============================] - 0s 60us/step - loss: 0.4186 - accuracy: 0.8177\n",
      "Epoch 85/300\n",
      "801/801 [==============================] - 0s 61us/step - loss: 0.4159 - accuracy: 0.8152\n",
      "Epoch 86/300\n",
      "801/801 [==============================] - 0s 62us/step - loss: 0.4158 - accuracy: 0.8190\n",
      "Epoch 87/300\n",
      "801/801 [==============================] - 0s 59us/step - loss: 0.4167 - accuracy: 0.8227\n",
      "Epoch 88/300\n",
      "801/801 [==============================] - 0s 59us/step - loss: 0.4159 - accuracy: 0.8252\n",
      "Epoch 89/300\n",
      "801/801 [==============================] - 0s 58us/step - loss: 0.4148 - accuracy: 0.8215\n",
      "Epoch 90/300\n",
      "801/801 [==============================] - 0s 59us/step - loss: 0.4169 - accuracy: 0.8215\n",
      "Epoch 91/300\n",
      "801/801 [==============================] - 0s 60us/step - loss: 0.4163 - accuracy: 0.8152\n",
      "Epoch 92/300\n",
      "801/801 [==============================] - 0s 59us/step - loss: 0.4149 - accuracy: 0.8215\n",
      "Epoch 93/300\n",
      "801/801 [==============================] - 0s 66us/step - loss: 0.4130 - accuracy: 0.8265\n",
      "Epoch 94/300\n",
      "801/801 [==============================] - 0s 60us/step - loss: 0.4131 - accuracy: 0.8290\n",
      "Epoch 95/300\n",
      "801/801 [==============================] - 0s 59us/step - loss: 0.4119 - accuracy: 0.8240\n",
      "Epoch 96/300\n",
      "801/801 [==============================] - 0s 60us/step - loss: 0.4123 - accuracy: 0.8277\n",
      "Epoch 97/300\n",
      "801/801 [==============================] - 0s 69us/step - loss: 0.4124 - accuracy: 0.8240\n",
      "Epoch 98/300\n",
      "801/801 [==============================] - 0s 61us/step - loss: 0.4124 - accuracy: 0.8215\n",
      "Epoch 99/300\n",
      "801/801 [==============================] - 0s 65us/step - loss: 0.4110 - accuracy: 0.8215\n",
      "Epoch 100/300\n",
      "801/801 [==============================] - 0s 63us/step - loss: 0.4104 - accuracy: 0.8277\n",
      "Epoch 101/300\n",
      "801/801 [==============================] - 0s 63us/step - loss: 0.4102 - accuracy: 0.8252\n",
      "Epoch 102/300\n",
      "801/801 [==============================] - 0s 63us/step - loss: 0.4086 - accuracy: 0.8315\n",
      "Epoch 103/300\n",
      "801/801 [==============================] - 0s 60us/step - loss: 0.4086 - accuracy: 0.8315\n",
      "Epoch 104/300\n",
      "801/801 [==============================] - 0s 65us/step - loss: 0.4136 - accuracy: 0.8152\n",
      "Epoch 105/300\n",
      "801/801 [==============================] - 0s 58us/step - loss: 0.4101 - accuracy: 0.8277\n",
      "Epoch 106/300\n",
      "801/801 [==============================] - 0s 60us/step - loss: 0.4096 - accuracy: 0.8277\n",
      "Epoch 107/300\n",
      "801/801 [==============================] - 0s 60us/step - loss: 0.4076 - accuracy: 0.8302\n",
      "Epoch 108/300\n",
      "801/801 [==============================] - 0s 55us/step - loss: 0.4071 - accuracy: 0.8315\n",
      "Epoch 109/300\n",
      "801/801 [==============================] - 0s 58us/step - loss: 0.4061 - accuracy: 0.8290\n",
      "Epoch 110/300\n",
      "801/801 [==============================] - 0s 59us/step - loss: 0.4060 - accuracy: 0.8277\n",
      "Epoch 111/300\n",
      "801/801 [==============================] - 0s 60us/step - loss: 0.4098 - accuracy: 0.8290\n",
      "Epoch 112/300\n",
      "801/801 [==============================] - 0s 58us/step - loss: 0.4056 - accuracy: 0.8302\n",
      "Epoch 113/300\n",
      "801/801 [==============================] - 0s 66us/step - loss: 0.4064 - accuracy: 0.8240\n",
      "Epoch 114/300\n",
      "801/801 [==============================] - 0s 57us/step - loss: 0.4072 - accuracy: 0.8340\n",
      "Epoch 115/300\n",
      "801/801 [==============================] - 0s 57us/step - loss: 0.4068 - accuracy: 0.8240\n",
      "Epoch 116/300\n",
      "801/801 [==============================] - 0s 58us/step - loss: 0.4045 - accuracy: 0.8352\n",
      "Epoch 117/300\n",
      "801/801 [==============================] - 0s 58us/step - loss: 0.4057 - accuracy: 0.8252\n",
      "Epoch 118/300\n",
      "801/801 [==============================] - 0s 59us/step - loss: 0.4044 - accuracy: 0.8315\n",
      "Epoch 119/300\n",
      "801/801 [==============================] - 0s 61us/step - loss: 0.4028 - accuracy: 0.8302\n",
      "Epoch 120/300\n",
      "801/801 [==============================] - 0s 60us/step - loss: 0.4035 - accuracy: 0.8302\n",
      "Epoch 121/300\n",
      "801/801 [==============================] - 0s 64us/step - loss: 0.4029 - accuracy: 0.8302\n",
      "Epoch 122/300\n",
      "801/801 [==============================] - 0s 62us/step - loss: 0.4029 - accuracy: 0.8302\n",
      "Epoch 123/300\n",
      "801/801 [==============================] - 0s 63us/step - loss: 0.4024 - accuracy: 0.8290\n",
      "Epoch 124/300\n",
      "801/801 [==============================] - 0s 63us/step - loss: 0.4024 - accuracy: 0.8327\n",
      "Epoch 125/300\n",
      "801/801 [==============================] - 0s 60us/step - loss: 0.4022 - accuracy: 0.8315\n",
      "Epoch 126/300\n",
      "801/801 [==============================] - 0s 60us/step - loss: 0.4058 - accuracy: 0.8265\n",
      "Epoch 127/300\n",
      "801/801 [==============================] - 0s 63us/step - loss: 0.4028 - accuracy: 0.8327\n",
      "Epoch 128/300\n",
      "801/801 [==============================] - 0s 60us/step - loss: 0.4034 - accuracy: 0.8315\n",
      "Epoch 129/300\n",
      "801/801 [==============================] - 0s 60us/step - loss: 0.4022 - accuracy: 0.8327\n",
      "Epoch 130/300\n",
      "801/801 [==============================] - 0s 62us/step - loss: 0.4032 - accuracy: 0.8277\n",
      "Epoch 131/300\n",
      "801/801 [==============================] - 0s 58us/step - loss: 0.4018 - accuracy: 0.8377\n",
      "Epoch 132/300\n",
      "801/801 [==============================] - 0s 59us/step - loss: 0.3998 - accuracy: 0.8377\n",
      "Epoch 133/300\n",
      "801/801 [==============================] - 0s 63us/step - loss: 0.3992 - accuracy: 0.8340\n",
      "Epoch 134/300\n",
      "801/801 [==============================] - 0s 58us/step - loss: 0.4002 - accuracy: 0.8315\n",
      "Epoch 135/300\n",
      "801/801 [==============================] - 0s 58us/step - loss: 0.3994 - accuracy: 0.8365\n",
      "Epoch 136/300\n",
      "801/801 [==============================] - 0s 62us/step - loss: 0.3995 - accuracy: 0.8365\n",
      "Epoch 137/300\n",
      "801/801 [==============================] - 0s 63us/step - loss: 0.3998 - accuracy: 0.8352\n",
      "Epoch 138/300\n",
      "801/801 [==============================] - 0s 62us/step - loss: 0.4012 - accuracy: 0.8340\n",
      "Epoch 139/300\n",
      "801/801 [==============================] - 0s 57us/step - loss: 0.3990 - accuracy: 0.8352\n",
      "Epoch 140/300\n",
      "801/801 [==============================] - 0s 61us/step - loss: 0.3992 - accuracy: 0.8340\n",
      "Epoch 141/300\n",
      "801/801 [==============================] - 0s 62us/step - loss: 0.4003 - accuracy: 0.8240\n",
      "Epoch 142/300\n",
      "801/801 [==============================] - 0s 59us/step - loss: 0.3989 - accuracy: 0.8265\n",
      "Epoch 143/300\n",
      "801/801 [==============================] - 0s 61us/step - loss: 0.4018 - accuracy: 0.8340\n",
      "Epoch 144/300\n",
      "801/801 [==============================] - 0s 62us/step - loss: 0.3985 - accuracy: 0.8340\n",
      "Epoch 145/300\n",
      "801/801 [==============================] - 0s 58us/step - loss: 0.3968 - accuracy: 0.8352\n",
      "Epoch 146/300\n",
      "801/801 [==============================] - 0s 56us/step - loss: 0.3974 - accuracy: 0.8365\n",
      "Epoch 147/300\n",
      "801/801 [==============================] - 0s 60us/step - loss: 0.3986 - accuracy: 0.8352\n",
      "Epoch 148/300\n",
      "801/801 [==============================] - 0s 63us/step - loss: 0.3972 - accuracy: 0.8352\n",
      "Epoch 149/300\n",
      "801/801 [==============================] - 0s 61us/step - loss: 0.3959 - accuracy: 0.8340\n",
      "Epoch 150/300\n",
      "801/801 [==============================] - 0s 60us/step - loss: 0.3989 - accuracy: 0.8227\n",
      "Epoch 151/300\n",
      "801/801 [==============================] - 0s 61us/step - loss: 0.3987 - accuracy: 0.8277\n",
      "Epoch 152/300\n",
      "801/801 [==============================] - 0s 61us/step - loss: 0.3961 - accuracy: 0.8352\n",
      "Epoch 153/300\n",
      "801/801 [==============================] - 0s 67us/step - loss: 0.3964 - accuracy: 0.8340\n",
      "Epoch 154/300\n",
      "801/801 [==============================] - 0s 59us/step - loss: 0.3977 - accuracy: 0.8277\n",
      "Epoch 155/300\n",
      "801/801 [==============================] - 0s 61us/step - loss: 0.3946 - accuracy: 0.8352\n",
      "Epoch 156/300\n",
      "801/801 [==============================] - 0s 60us/step - loss: 0.3954 - accuracy: 0.8365\n",
      "Epoch 157/300\n",
      "801/801 [==============================] - 0s 65us/step - loss: 0.3988 - accuracy: 0.8265\n",
      "Epoch 158/300\n",
      "801/801 [==============================] - 0s 64us/step - loss: 0.3953 - accuracy: 0.8365\n",
      "Epoch 159/300\n",
      "801/801 [==============================] - 0s 63us/step - loss: 0.3940 - accuracy: 0.8340\n",
      "Epoch 160/300\n",
      "801/801 [==============================] - 0s 64us/step - loss: 0.3934 - accuracy: 0.8327\n",
      "Epoch 161/300\n",
      "801/801 [==============================] - 0s 60us/step - loss: 0.3964 - accuracy: 0.8340\n",
      "Epoch 162/300\n",
      "801/801 [==============================] - 0s 57us/step - loss: 0.3933 - accuracy: 0.8352\n",
      "Epoch 163/300\n",
      "801/801 [==============================] - 0s 65us/step - loss: 0.3934 - accuracy: 0.8327\n",
      "Epoch 164/300\n",
      "801/801 [==============================] - 0s 62us/step - loss: 0.3946 - accuracy: 0.8327\n",
      "Epoch 165/300\n",
      "801/801 [==============================] - 0s 59us/step - loss: 0.3928 - accuracy: 0.8365\n",
      "Epoch 166/300\n",
      "801/801 [==============================] - 0s 56us/step - loss: 0.3982 - accuracy: 0.8290\n",
      "Epoch 167/300\n",
      "801/801 [==============================] - 0s 55us/step - loss: 0.3938 - accuracy: 0.8352\n",
      "Epoch 168/300\n",
      "801/801 [==============================] - 0s 57us/step - loss: 0.3927 - accuracy: 0.8352\n",
      "Epoch 169/300\n",
      "801/801 [==============================] - 0s 59us/step - loss: 0.3932 - accuracy: 0.8340\n",
      "Epoch 170/300\n",
      "801/801 [==============================] - 0s 58us/step - loss: 0.3930 - accuracy: 0.8327\n",
      "Epoch 171/300\n",
      "801/801 [==============================] - 0s 57us/step - loss: 0.3923 - accuracy: 0.8340\n",
      "Epoch 172/300\n",
      "801/801 [==============================] - 0s 56us/step - loss: 0.3919 - accuracy: 0.8352\n",
      "Epoch 173/300\n",
      "801/801 [==============================] - 0s 62us/step - loss: 0.3911 - accuracy: 0.8352\n",
      "Epoch 174/300\n",
      "801/801 [==============================] - 0s 57us/step - loss: 0.3914 - accuracy: 0.8340\n",
      "Epoch 175/300\n",
      "801/801 [==============================] - 0s 57us/step - loss: 0.3939 - accuracy: 0.8227\n",
      "Epoch 176/300\n",
      "801/801 [==============================] - 0s 58us/step - loss: 0.3924 - accuracy: 0.8352\n",
      "Epoch 177/300\n",
      "801/801 [==============================] - 0s 59us/step - loss: 0.3959 - accuracy: 0.8327\n",
      "Epoch 178/300\n",
      "801/801 [==============================] - 0s 57us/step - loss: 0.3917 - accuracy: 0.8365\n",
      "Epoch 179/300\n",
      "801/801 [==============================] - 0s 59us/step - loss: 0.3910 - accuracy: 0.8352\n",
      "Epoch 180/300\n",
      "801/801 [==============================] - 0s 63us/step - loss: 0.3928 - accuracy: 0.8315\n",
      "Epoch 181/300\n",
      "801/801 [==============================] - 0s 56us/step - loss: 0.3910 - accuracy: 0.8340\n",
      "Epoch 182/300\n",
      "801/801 [==============================] - 0s 55us/step - loss: 0.3906 - accuracy: 0.8352\n",
      "Epoch 183/300\n",
      "801/801 [==============================] - 0s 56us/step - loss: 0.3894 - accuracy: 0.8352\n",
      "Epoch 184/300\n",
      "801/801 [==============================] - 0s 57us/step - loss: 0.3898 - accuracy: 0.8340\n",
      "Epoch 185/300\n",
      "801/801 [==============================] - 0s 62us/step - loss: 0.3900 - accuracy: 0.8340\n",
      "Epoch 186/300\n",
      "801/801 [==============================] - 0s 62us/step - loss: 0.3932 - accuracy: 0.8327\n",
      "Epoch 187/300\n",
      "801/801 [==============================] - 0s 63us/step - loss: 0.4009 - accuracy: 0.8265\n",
      "Epoch 188/300\n",
      "801/801 [==============================] - 0s 60us/step - loss: 0.3898 - accuracy: 0.8365\n",
      "Epoch 189/300\n",
      "801/801 [==============================] - 0s 63us/step - loss: 0.3910 - accuracy: 0.8340\n",
      "Epoch 190/300\n",
      "801/801 [==============================] - 0s 70us/step - loss: 0.3896 - accuracy: 0.8365\n",
      "Epoch 191/300\n",
      "801/801 [==============================] - 0s 66us/step - loss: 0.3902 - accuracy: 0.8352\n",
      "Epoch 192/300\n",
      "801/801 [==============================] - 0s 60us/step - loss: 0.3895 - accuracy: 0.8340\n",
      "Epoch 193/300\n",
      "801/801 [==============================] - 0s 61us/step - loss: 0.3889 - accuracy: 0.8352\n",
      "Epoch 194/300\n",
      "801/801 [==============================] - 0s 58us/step - loss: 0.3903 - accuracy: 0.8327\n",
      "Epoch 195/300\n",
      "801/801 [==============================] - 0s 60us/step - loss: 0.3906 - accuracy: 0.8327\n",
      "Epoch 196/300\n",
      "801/801 [==============================] - 0s 59us/step - loss: 0.3901 - accuracy: 0.8290\n",
      "Epoch 197/300\n",
      "801/801 [==============================] - 0s 60us/step - loss: 0.3919 - accuracy: 0.8302\n",
      "Epoch 198/300\n",
      "801/801 [==============================] - 0s 61us/step - loss: 0.3889 - accuracy: 0.8340\n",
      "Epoch 199/300\n",
      "801/801 [==============================] - 0s 58us/step - loss: 0.3891 - accuracy: 0.8340\n",
      "Epoch 200/300\n",
      "801/801 [==============================] - 0s 70us/step - loss: 0.3881 - accuracy: 0.8365\n",
      "Epoch 201/300\n",
      "801/801 [==============================] - 0s 61us/step - loss: 0.3895 - accuracy: 0.8365\n",
      "Epoch 202/300\n",
      "801/801 [==============================] - 0s 61us/step - loss: 0.3896 - accuracy: 0.8365\n",
      "Epoch 203/300\n",
      "801/801 [==============================] - 0s 59us/step - loss: 0.3934 - accuracy: 0.8252\n",
      "Epoch 204/300\n",
      "801/801 [==============================] - 0s 61us/step - loss: 0.3890 - accuracy: 0.8365\n",
      "Epoch 205/300\n",
      "801/801 [==============================] - 0s 58us/step - loss: 0.3888 - accuracy: 0.8340\n",
      "Epoch 206/300\n",
      "801/801 [==============================] - 0s 55us/step - loss: 0.3925 - accuracy: 0.8165\n",
      "Epoch 207/300\n",
      "801/801 [==============================] - 0s 57us/step - loss: 0.3875 - accuracy: 0.8365\n",
      "Epoch 208/300\n",
      "801/801 [==============================] - 0s 57us/step - loss: 0.3873 - accuracy: 0.8365\n",
      "Epoch 209/300\n",
      "801/801 [==============================] - 0s 58us/step - loss: 0.3880 - accuracy: 0.8340\n",
      "Epoch 210/300\n",
      "801/801 [==============================] - 0s 56us/step - loss: 0.3893 - accuracy: 0.8352\n",
      "Epoch 211/300\n",
      "801/801 [==============================] - 0s 60us/step - loss: 0.3898 - accuracy: 0.8352\n",
      "Epoch 212/300\n",
      "801/801 [==============================] - 0s 62us/step - loss: 0.3920 - accuracy: 0.8277\n",
      "Epoch 213/300\n",
      "801/801 [==============================] - 0s 62us/step - loss: 0.3935 - accuracy: 0.8340\n",
      "Epoch 214/300\n",
      "801/801 [==============================] - 0s 57us/step - loss: 0.3873 - accuracy: 0.8377\n",
      "Epoch 215/300\n",
      "801/801 [==============================] - 0s 59us/step - loss: 0.3880 - accuracy: 0.8352\n",
      "Epoch 216/300\n",
      "801/801 [==============================] - 0s 60us/step - loss: 0.3890 - accuracy: 0.8377\n",
      "Epoch 217/300\n",
      "801/801 [==============================] - 0s 61us/step - loss: 0.3870 - accuracy: 0.8365\n",
      "Epoch 218/300\n",
      "801/801 [==============================] - 0s 57us/step - loss: 0.3870 - accuracy: 0.8365\n",
      "Epoch 219/300\n",
      "801/801 [==============================] - 0s 61us/step - loss: 0.3871 - accuracy: 0.8352\n",
      "Epoch 220/300\n",
      "801/801 [==============================] - 0s 67us/step - loss: 0.3901 - accuracy: 0.8252\n",
      "Epoch 221/300\n",
      "801/801 [==============================] - 0s 57us/step - loss: 0.3872 - accuracy: 0.8377\n",
      "Epoch 222/300\n",
      "801/801 [==============================] - 0s 57us/step - loss: 0.3873 - accuracy: 0.8352\n",
      "Epoch 223/300\n",
      "801/801 [==============================] - 0s 65us/step - loss: 0.3877 - accuracy: 0.8377\n",
      "Epoch 224/300\n",
      "801/801 [==============================] - 0s 59us/step - loss: 0.3857 - accuracy: 0.8365\n",
      "Epoch 225/300\n",
      "801/801 [==============================] - 0s 67us/step - loss: 0.3860 - accuracy: 0.8352\n",
      "Epoch 226/300\n",
      "801/801 [==============================] - 0s 60us/step - loss: 0.3855 - accuracy: 0.8377\n",
      "Epoch 227/300\n",
      "801/801 [==============================] - 0s 59us/step - loss: 0.3857 - accuracy: 0.8365\n",
      "Epoch 228/300\n",
      "801/801 [==============================] - 0s 58us/step - loss: 0.3855 - accuracy: 0.8365\n",
      "Epoch 229/300\n",
      "801/801 [==============================] - 0s 58us/step - loss: 0.3873 - accuracy: 0.8365\n",
      "Epoch 230/300\n",
      "801/801 [==============================] - 0s 59us/step - loss: 0.3883 - accuracy: 0.8365\n",
      "Epoch 231/300\n",
      "801/801 [==============================] - 0s 59us/step - loss: 0.3857 - accuracy: 0.8365\n",
      "Epoch 232/300\n",
      "801/801 [==============================] - 0s 58us/step - loss: 0.3862 - accuracy: 0.8340\n",
      "Epoch 233/300\n",
      "801/801 [==============================] - 0s 62us/step - loss: 0.3853 - accuracy: 0.8377\n",
      "Epoch 234/300\n",
      "801/801 [==============================] - 0s 60us/step - loss: 0.3861 - accuracy: 0.8340\n",
      "Epoch 235/300\n",
      "801/801 [==============================] - 0s 60us/step - loss: 0.3852 - accuracy: 0.8340\n",
      "Epoch 236/300\n",
      "801/801 [==============================] - 0s 61us/step - loss: 0.3854 - accuracy: 0.8365\n",
      "Epoch 237/300\n",
      "801/801 [==============================] - 0s 63us/step - loss: 0.3866 - accuracy: 0.8352\n",
      "Epoch 238/300\n",
      "801/801 [==============================] - 0s 59us/step - loss: 0.3853 - accuracy: 0.8352\n",
      "Epoch 239/300\n",
      "801/801 [==============================] - 0s 65us/step - loss: 0.3846 - accuracy: 0.8340\n",
      "Epoch 240/300\n",
      "801/801 [==============================] - 0s 62us/step - loss: 0.3898 - accuracy: 0.8277\n",
      "Epoch 241/300\n",
      "801/801 [==============================] - 0s 61us/step - loss: 0.3855 - accuracy: 0.8352\n",
      "Epoch 242/300\n",
      "801/801 [==============================] - 0s 70us/step - loss: 0.3851 - accuracy: 0.8390\n",
      "Epoch 243/300\n",
      "801/801 [==============================] - 0s 60us/step - loss: 0.3843 - accuracy: 0.8365\n",
      "Epoch 244/300\n",
      "801/801 [==============================] - 0s 63us/step - loss: 0.3859 - accuracy: 0.8340\n",
      "Epoch 245/300\n",
      "801/801 [==============================] - 0s 58us/step - loss: 0.3841 - accuracy: 0.8352\n",
      "Epoch 246/300\n",
      "801/801 [==============================] - 0s 63us/step - loss: 0.3853 - accuracy: 0.8352\n",
      "Epoch 247/300\n",
      "801/801 [==============================] - 0s 63us/step - loss: 0.3853 - accuracy: 0.8352\n",
      "Epoch 248/300\n",
      "801/801 [==============================] - 0s 59us/step - loss: 0.3877 - accuracy: 0.8390\n",
      "Epoch 249/300\n",
      "801/801 [==============================] - 0s 57us/step - loss: 0.3882 - accuracy: 0.8302\n",
      "Epoch 250/300\n",
      "801/801 [==============================] - 0s 59us/step - loss: 0.3859 - accuracy: 0.8327\n",
      "Epoch 251/300\n",
      "801/801 [==============================] - 0s 58us/step - loss: 0.3849 - accuracy: 0.8352\n",
      "Epoch 252/300\n",
      "801/801 [==============================] - 0s 60us/step - loss: 0.3846 - accuracy: 0.8340\n",
      "Epoch 253/300\n",
      "801/801 [==============================] - 0s 71us/step - loss: 0.3839 - accuracy: 0.8340\n",
      "Epoch 254/300\n",
      "801/801 [==============================] - 0s 62us/step - loss: 0.3840 - accuracy: 0.8340\n",
      "Epoch 255/300\n",
      "801/801 [==============================] - 0s 74us/step - loss: 0.3846 - accuracy: 0.8327\n",
      "Epoch 256/300\n",
      "801/801 [==============================] - 0s 70us/step - loss: 0.3841 - accuracy: 0.8365\n",
      "Epoch 257/300\n",
      "801/801 [==============================] - 0s 71us/step - loss: 0.3841 - accuracy: 0.8340\n",
      "Epoch 258/300\n",
      "801/801 [==============================] - 0s 76us/step - loss: 0.3829 - accuracy: 0.8315\n",
      "Epoch 259/300\n",
      "801/801 [==============================] - 0s 71us/step - loss: 0.3842 - accuracy: 0.8340\n",
      "Epoch 260/300\n",
      "801/801 [==============================] - 0s 64us/step - loss: 0.3839 - accuracy: 0.8365\n",
      "Epoch 261/300\n",
      "801/801 [==============================] - 0s 66us/step - loss: 0.3832 - accuracy: 0.8365\n",
      "Epoch 262/300\n",
      "801/801 [==============================] - 0s 60us/step - loss: 0.3846 - accuracy: 0.8365\n",
      "Epoch 263/300\n",
      "801/801 [==============================] - 0s 70us/step - loss: 0.3838 - accuracy: 0.8327\n",
      "Epoch 264/300\n",
      "801/801 [==============================] - 0s 63us/step - loss: 0.3863 - accuracy: 0.8302\n",
      "Epoch 265/300\n",
      "801/801 [==============================] - 0s 64us/step - loss: 0.3834 - accuracy: 0.8340\n",
      "Epoch 266/300\n",
      "801/801 [==============================] - 0s 66us/step - loss: 0.3830 - accuracy: 0.8365\n",
      "Epoch 267/300\n",
      "801/801 [==============================] - 0s 64us/step - loss: 0.3827 - accuracy: 0.8365\n",
      "Epoch 268/300\n",
      "801/801 [==============================] - 0s 61us/step - loss: 0.3900 - accuracy: 0.8277\n",
      "Epoch 269/300\n",
      "801/801 [==============================] - 0s 60us/step - loss: 0.3846 - accuracy: 0.8365\n",
      "Epoch 270/300\n",
      "801/801 [==============================] - 0s 61us/step - loss: 0.3844 - accuracy: 0.8377\n",
      "Epoch 271/300\n",
      "801/801 [==============================] - 0s 64us/step - loss: 0.3830 - accuracy: 0.8352\n",
      "Epoch 272/300\n",
      "801/801 [==============================] - 0s 57us/step - loss: 0.3822 - accuracy: 0.8340\n",
      "Epoch 273/300\n",
      "801/801 [==============================] - 0s 59us/step - loss: 0.3823 - accuracy: 0.8352\n",
      "Epoch 274/300\n",
      "801/801 [==============================] - 0s 64us/step - loss: 0.3838 - accuracy: 0.8365\n",
      "Epoch 275/300\n",
      "801/801 [==============================] - 0s 60us/step - loss: 0.3855 - accuracy: 0.8352\n",
      "Epoch 276/300\n",
      "801/801 [==============================] - 0s 66us/step - loss: 0.3826 - accuracy: 0.8365\n",
      "Epoch 277/300\n",
      "801/801 [==============================] - 0s 86us/step - loss: 0.3821 - accuracy: 0.8365\n",
      "Epoch 278/300\n",
      "801/801 [==============================] - 0s 59us/step - loss: 0.3857 - accuracy: 0.8340\n",
      "Epoch 279/300\n",
      "801/801 [==============================] - 0s 57us/step - loss: 0.3836 - accuracy: 0.8352\n",
      "Epoch 280/300\n",
      "801/801 [==============================] - 0s 61us/step - loss: 0.3826 - accuracy: 0.8365\n",
      "Epoch 281/300\n",
      "801/801 [==============================] - 0s 58us/step - loss: 0.3823 - accuracy: 0.8365\n",
      "Epoch 282/300\n",
      "801/801 [==============================] - 0s 59us/step - loss: 0.3824 - accuracy: 0.8340\n",
      "Epoch 283/300\n",
      "801/801 [==============================] - 0s 61us/step - loss: 0.3815 - accuracy: 0.8390\n",
      "Epoch 284/300\n",
      "801/801 [==============================] - 0s 58us/step - loss: 0.3821 - accuracy: 0.8340\n",
      "Epoch 285/300\n",
      "801/801 [==============================] - 0s 60us/step - loss: 0.3823 - accuracy: 0.8340\n",
      "Epoch 286/300\n",
      "801/801 [==============================] - 0s 61us/step - loss: 0.3821 - accuracy: 0.8377\n",
      "Epoch 287/300\n",
      "801/801 [==============================] - 0s 61us/step - loss: 0.3826 - accuracy: 0.8327\n",
      "Epoch 288/300\n",
      "801/801 [==============================] - 0s 59us/step - loss: 0.3828 - accuracy: 0.8377\n",
      "Epoch 289/300\n",
      "801/801 [==============================] - 0s 58us/step - loss: 0.3811 - accuracy: 0.8365\n",
      "Epoch 290/300\n",
      "801/801 [==============================] - 0s 58us/step - loss: 0.3807 - accuracy: 0.8340\n",
      "Epoch 291/300\n",
      "801/801 [==============================] - 0s 73us/step - loss: 0.3814 - accuracy: 0.8352\n",
      "Epoch 292/300\n",
      "801/801 [==============================] - 0s 66us/step - loss: 0.3871 - accuracy: 0.8265\n",
      "Epoch 293/300\n",
      "801/801 [==============================] - 0s 61us/step - loss: 0.3848 - accuracy: 0.8352\n",
      "Epoch 294/300\n",
      "801/801 [==============================] - 0s 58us/step - loss: 0.3811 - accuracy: 0.8390\n",
      "Epoch 295/300\n",
      "801/801 [==============================] - 0s 60us/step - loss: 0.3812 - accuracy: 0.8377\n",
      "Epoch 296/300\n",
      "801/801 [==============================] - 0s 57us/step - loss: 0.3836 - accuracy: 0.8365\n",
      "Epoch 297/300\n",
      "801/801 [==============================] - 0s 59us/step - loss: 0.3869 - accuracy: 0.8402\n",
      "Epoch 298/300\n",
      "801/801 [==============================] - 0s 57us/step - loss: 0.3839 - accuracy: 0.8365\n",
      "Epoch 299/300\n",
      "801/801 [==============================] - 0s 62us/step - loss: 0.3831 - accuracy: 0.8377\n",
      "Epoch 300/300\n",
      "801/801 [==============================] - 0s 58us/step - loss: 0.3821 - accuracy: 0.8390\n"
     ]
    }
   ],
   "source": [
    "layer1 = Dense(units = 10,activation = 'relu', input_dim = 7)\n",
    "layer2 = Dense(units = 15, activation = 'relu')\n",
    "layer3 = Dense(units = 2, activation = 'sigmoid')\n",
    "\n",
    "model = Sequential([layer1, layer2, layer3])\n",
    "model.compile(optimizer = 'adam', loss = 'sparse_categorical_crossentropy', metrics = ['accuracy'])\n",
    "\n",
    "clf = model.fit(x_train_scaled, y_train, batch_size = 25, epochs = 300)"
   ]
  },
  {
   "cell_type": "code",
   "execution_count": 42,
   "metadata": {
    "colab": {
     "base_uri": "https://localhost:8080/",
     "height": 88
    },
    "colab_type": "code",
    "id": "8w6yidCjrkyP",
    "outputId": "6abb9b18-3c00-4e5c-bb51-6a852595eab8"
   },
   "outputs": [
    {
     "name": "stdout",
     "output_type": "stream",
     "text": [
      "Confusion Matrix \n",
      " [[47  3]\n",
      " [10 30]]\n",
      "Accuracy: 0.86\n"
     ]
    }
   ],
   "source": [
    "predicted_on_test = model.predict_classes(x_test_scaled, batch_size = 25)\n",
    "confusion = confusion_matrix(y_test, predicted_on_test)\n",
    "print('Confusion Matrix \\n', confusion)\n",
    "print('Accuracy: {:.2f}'.format(accuracy_score(y_test, predicted_on_test)))"
   ]
  },
  {
   "cell_type": "markdown",
   "metadata": {
    "colab_type": "text",
    "id": "UU4Ux8UbrkyS"
   },
   "source": [
    "The accuracy calculated with Keras Sequential classifier has got small increase than the previous MLPClassifier. The confusion matrix parameters shows some improvement than before"
   ]
  },
  {
   "cell_type": "markdown",
   "metadata": {},
   "source": [
    "Clearly the above analysis indicates that Keras Sequential Classifier has a better performance. Let us now generate the required output on the actual test data. "
   ]
  },
  {
   "cell_type": "code",
   "execution_count": 43,
   "metadata": {},
   "outputs": [],
   "source": [
    "real_test_titanic_scaled = scaler.transform(real_test_titanic)"
   ]
  },
  {
   "cell_type": "code",
   "execution_count": 44,
   "metadata": {},
   "outputs": [],
   "source": [
    "predicted_on_actual = model.predict_classes(real_test_titanic_scaled, batch_size = 25)"
   ]
  },
  {
   "cell_type": "code",
   "execution_count": 45,
   "metadata": {},
   "outputs": [
    {
     "data": {
      "text/plain": [
       "array([0, 0, 0, 0, 0, 0, 1, 0, 1, 0, 0, 0, 1, 0, 1, 1, 0, 0, 0, 1, 0, 1,\n",
       "       1, 0, 1, 0, 1, 0, 0, 0, 0, 0, 0, 0, 0, 0, 0, 0, 0, 0, 0, 0, 0, 1,\n",
       "       1, 0, 0, 0, 1, 0, 0, 0, 1, 1, 0, 0, 0, 0, 0, 1, 0, 0, 0, 1, 0, 1,\n",
       "       1, 0, 0, 0, 1, 0, 0, 0, 1, 0, 0, 1, 0, 1, 1, 1, 0, 0, 0, 0, 1, 1,\n",
       "       1, 1, 0, 0, 1, 0, 0, 0, 1, 0, 0, 0, 1, 0, 0, 0, 1, 0, 0, 0, 0, 0,\n",
       "       0, 1, 1, 1, 1, 0, 0, 1, 0, 1, 1, 0, 1, 0, 0, 1, 0, 1, 0, 0, 0, 0,\n",
       "       1, 0, 0, 0, 0, 0, 0, 0, 0, 1, 0, 0, 0, 0, 0, 0, 0, 0, 1, 0, 0, 0,\n",
       "       0, 0, 1, 0, 0, 0, 1, 1, 1, 0, 0, 0, 0, 0, 1, 0, 0, 0, 0, 0, 0, 1,\n",
       "       1, 0, 1, 1, 0, 0, 1, 0, 1, 0, 1, 0, 0, 0, 0, 0, 0, 0, 1, 0, 1, 1,\n",
       "       0, 0, 1, 1, 0, 1, 0, 0, 1, 0, 1, 0, 0, 0, 0, 1, 0, 0, 1, 0, 1, 0,\n",
       "       1, 0, 1, 0, 1, 1, 0, 1, 0, 0, 0, 1, 0, 0, 0, 0, 0, 0, 1, 1, 1, 1,\n",
       "       0, 0, 0, 0, 1, 0, 1, 1, 1, 0, 0, 0, 0, 0, 0, 0, 1, 0, 0, 0, 1, 1,\n",
       "       0, 0, 0, 0, 0, 0, 0, 0, 1, 1, 0, 1, 0, 0, 0, 0, 0, 1, 1, 1, 1, 0,\n",
       "       0, 0, 0, 0, 0, 1, 0, 0, 0, 0, 1, 0, 0, 0, 0, 0, 0, 0, 1, 1, 0, 1,\n",
       "       0, 0, 0, 0, 0, 1, 1, 1, 0, 0, 0, 0, 0, 0, 0, 0, 1, 0, 1, 0, 0, 0,\n",
       "       1, 0, 0, 1, 0, 0, 0, 0, 0, 0, 0, 0, 1, 1, 0, 1, 0, 1, 0, 1, 1, 0,\n",
       "       0, 0, 1, 0, 1, 0, 0, 0, 0, 1, 1, 0, 1, 0, 0, 1, 1, 0, 0, 1, 0, 0,\n",
       "       1, 1, 0, 0, 0, 0, 0, 0, 0, 0, 0, 1, 0, 0, 0, 0, 0, 1, 1, 0, 0, 1,\n",
       "       0, 1, 0, 0, 1, 0, 1, 0, 0, 0, 0, 0, 1, 0, 1, 1, 0, 0, 1, 0, 0, 0])"
      ]
     },
     "execution_count": 45,
     "metadata": {},
     "output_type": "execute_result"
    }
   ],
   "source": [
    "predicted_on_actual"
   ]
  },
  {
   "cell_type": "code",
   "execution_count": 46,
   "metadata": {},
   "outputs": [],
   "source": [
    "actual_test = pd.read_csv(\"../input/titanic/test.csv\")\n",
    "\n",
    "for_submission = pd.DataFrame({\"PassengerId\": actual_test['PassengerId'],\n",
    "                      \"Survived\":predicted_on_actual.astype(int)})\n",
    "for_submission.to_csv(\"prediction_file_by_arunjith.csv\",index=False)"
   ]
  },
  {
   "cell_type": "markdown",
   "metadata": {},
   "source": [
    "We could also perform a hyperparameter tuning for Keras Classifier, but it would take much amount of time. \n",
    "The notebook can be improved by bringing in more classifier algorithms."
   ]
  }
 ],
 "metadata": {
  "colab": {
   "name": "Titanic-EDA & Classification.ipynb",
   "provenance": []
  },
  "kernelspec": {
   "display_name": "Python 3",
   "language": "python",
   "name": "python3"
  },
  "language_info": {
   "codemirror_mode": {
    "name": "ipython",
    "version": 3
   },
   "file_extension": ".py",
   "mimetype": "text/x-python",
   "name": "python",
   "nbconvert_exporter": "python",
   "pygments_lexer": "ipython3",
   "version": "3.6.6"
  }
 },
 "nbformat": 4,
 "nbformat_minor": 1
}
